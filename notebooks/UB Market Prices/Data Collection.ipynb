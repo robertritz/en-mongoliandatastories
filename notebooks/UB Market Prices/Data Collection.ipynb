{
 "cells": [
  {
   "cell_type": "markdown",
   "id": "0f7f4fe8",
   "metadata": {
    "cell_id": "00000-2a55d6be-a991-4ee6-88bf-8d31a6380592",
    "deepnote_cell_type": "markdown"
   },
   "source": [
    "# Market Price Data Collection\n",
    "\n",
    "This notebook scrapes and combines weekly price data from Mongolia's National Statistics Office. Each week they record average prices for various staple products around Ulaanbaatar. \n",
    "\n",
    "Link to web page: https://1212.mn/BookLibrary.aspx?category=004\n",
    "\n",
    "This notebook will be run on a schedule to allow for the dataset to be updated monthly."
   ]
  },
  {
   "cell_type": "code",
   "execution_count": 1,
   "id": "c53152be",
   "metadata": {
    "cell_id": "00001-13c6154b-f8e1-4864-8ff9-b18d550ef4c4",
    "deepnote_cell_type": "code",
    "deepnote_to_be_reexecuted": false,
    "execution_millis": 119,
    "execution_start": 1638088339077,
    "source_hash": "4f69442a"
   },
   "outputs": [],
   "source": [
    "import pandas as pd\n",
    "import glob\n",
    "import requests\n",
    "from bs4 import BeautifulSoup\n",
    "import shutil\n",
    "import os\n",
    "import datetime"
   ]
  },
  {
   "cell_type": "markdown",
   "id": "b6494cca",
   "metadata": {
    "cell_id": "00002-0628e447-d19e-4ebb-b6b6-a91a7b89f8c2",
    "deepnote_cell_type": "markdown"
   },
   "source": [
    "### Scraping data\n",
    "* Link to datasets: https://1212.mn/BookLibrary.aspx?category=004"
   ]
  },
  {
   "cell_type": "code",
   "execution_count": 2,
   "id": "6e497bae",
   "metadata": {
    "cell_id": "00003-debb5952-26fd-49f5-8f95-9283828fa62f",
    "deepnote_cell_type": "code",
    "deepnote_to_be_reexecuted": false,
    "execution_millis": 0,
    "execution_start": 1638088339248,
    "source_hash": "f0d5f1b6"
   },
   "outputs": [],
   "source": [
    "def download_file(url, name):\n",
    "    with requests.get(url, stream=True) as r:\n",
    "        with open(name, 'wb') as f:\n",
    "            shutil.copyfileobj(r.raw, f)\n",
    "\n",
    "    return name"
   ]
  },
  {
   "cell_type": "code",
   "execution_count": 3,
   "id": "16d3f9fd",
   "metadata": {
    "cell_id": "00004-abe1e447-066c-4677-a2b2-f0306e0c5d10",
    "deepnote_cell_type": "code",
    "deepnote_output_heights": [
     21.1875
    ],
    "deepnote_to_be_reexecuted": false,
    "execution_millis": 65,
    "execution_start": 1638088339249,
    "source_hash": "52f00a10",
    "tags": []
   },
   "outputs": [],
   "source": [
    "if os.path.isdir('raw'):\n",
    "    shutil.rmtree('raw', ignore_errors=True)\n",
    "    os.mkdir('raw')"
   ]
  },
  {
   "cell_type": "code",
   "execution_count": 4,
   "id": "6b8678c8",
   "metadata": {
    "cell_id": "00004-c8393fcb-0231-4fb1-a0e1-490a27d999d3",
    "deepnote_cell_type": "code",
    "deepnote_to_be_reexecuted": false,
    "execution_millis": 5166,
    "execution_start": 1638088339368,
    "source_hash": "935e8963"
   },
   "outputs": [],
   "source": [
    "URL = \"https://1212.mn/BookLibrary.aspx?category=004\"\n",
    "page = requests.get(URL)\n",
    "\n",
    "soup = BeautifulSoup(page.content, \"html.parser\")\n"
   ]
  },
  {
   "cell_type": "code",
   "execution_count": 5,
   "id": "0b410ec3",
   "metadata": {
    "cell_id": "00005-1e9eff25-055f-4ad5-8038-a137e0352fcc",
    "deepnote_cell_type": "code",
    "deepnote_to_be_reexecuted": false,
    "execution_millis": 4,
    "execution_start": 1638088344548,
    "source_hash": "e0932a37"
   },
   "outputs": [],
   "source": [
    "# table = soup.findAll('tr')\n",
    "table = soup.find('tbody')"
   ]
  },
  {
   "cell_type": "code",
   "execution_count": 6,
   "id": "9cb43d9d",
   "metadata": {
    "cell_id": "00006-0b4a8f28-787d-4399-accc-bdb950843596",
    "deepnote_cell_type": "code",
    "deepnote_to_be_reexecuted": false,
    "execution_millis": 280105,
    "execution_start": 1638088344565,
    "source_hash": "488d58a1",
    "tags": []
   },
   "outputs": [],
   "source": [
    "tbl_rows = table.findAll('tr')\n",
    "for row in tbl_rows:\n",
    "    if row.find('img')['src'] == '/img/icon/xls_icon.gif': #get only xlsx files\n",
    "        link_to_xlsx = row.a['href']\n",
    "        date = row.find('img')['alt']\n",
    "        if date > '2019-01-01': #date from 2012-01-01\n",
    "            download_file(link_to_xlsx, 'raw/{}.xlsx'.format(date))\n",
    "        else:\n",
    "            break"
   ]
  },
  {
   "cell_type": "markdown",
   "id": "f858ffdb",
   "metadata": {
    "cell_id": "00007-335ff75f-abe2-4551-8410-79452dbba7eb",
    "deepnote_cell_type": "markdown"
   },
   "source": [
    "### Merging datasets"
   ]
  },
  {
   "cell_type": "code",
   "execution_count": 7,
   "id": "3ada0d15",
   "metadata": {
    "cell_id": "00008-3b1156ff-07de-4237-a7f0-bfcae055f4de",
    "deepnote_cell_type": "code",
    "deepnote_to_be_reexecuted": false,
    "execution_millis": 0,
    "execution_start": 1638088624713,
    "source_hash": "9be81db0"
   },
   "outputs": [],
   "source": [
    "def sheet_df(sheet):\n",
    "    sheet = pd.read_excel(sheet, sheet_name=2, skiprows=4, index_col=[0, 1])\n",
    "    sheet = sheet.dropna(axis=0, how='all')\n",
    "    sheet = sheet.dropna(axis=1, how='all')\n",
    "    sheet = sheet.reset_index()\n",
    "    \n",
    "    sheet['Барааны нэр'] = sheet['Барааны нэр'].str.strip()\n",
    "    sheet['Барааны нэр'] = sheet['Барааны нэр'] + ' ' + sheet.iloc[:,2].fillna(value='')\n",
    "    sheet['Барааны нэр'] = sheet['Барааны нэр'].str.strip()\n",
    "    sheet = sheet.drop(columns=['№', 'Unnamed: 2','Дундаж үнэ'])\n",
    "    return sheet"
   ]
  },
  {
   "cell_type": "code",
   "execution_count": 8,
   "id": "f004cf67",
   "metadata": {
    "cell_id": "00009-97823075-f9d7-42b3-a893-34bcc2f463f4",
    "deepnote_cell_type": "code",
    "deepnote_to_be_reexecuted": false,
    "execution_millis": 1,
    "execution_start": 1638088624713,
    "source_hash": "e6a626d4"
   },
   "outputs": [],
   "source": [
    "path =r'raw/'\n",
    "filenames = glob.glob(path + \"*.xlsx\")"
   ]
  },
  {
   "cell_type": "code",
   "execution_count": 9,
   "id": "1e890837",
   "metadata": {
    "cell_id": "00010-39132424-70ce-435f-8a97-c4b31f59f4e9",
    "deepnote_cell_type": "code",
    "deepnote_output_heights": [
     462.5
    ],
    "deepnote_to_be_reexecuted": false,
    "execution_millis": 34728,
    "execution_start": 1638088869577,
    "source_hash": "f86ac0c2",
    "tags": []
   },
   "outputs": [],
   "source": [
    "main_df = {}\n",
    "for filename in filenames:\n",
    "    try:\n",
    "        with pd.ExcelFile(filename) as reader:\n",
    "            date = filename[4:14] #get only date from file name\n",
    "            main_df[date] = sheet_df(reader)\n",
    "    except:\n",
    "        print(filename)"
   ]
  },
  {
   "cell_type": "code",
   "execution_count": 10,
   "id": "5c84a9ce",
   "metadata": {
    "cell_id": "00011-4a2ce155-6044-4ebf-9846-7bb566783171",
    "deepnote_cell_type": "code",
    "deepnote_output_heights": [
     382.1875
    ],
    "deepnote_to_be_reexecuted": false,
    "execution_millis": 300,
    "execution_start": 1638088950984,
    "source_hash": "f1d5331a"
   },
   "outputs": [
    {
     "data": {
      "text/html": [
       "<div>\n",
       "<style scoped>\n",
       "    .dataframe tbody tr th:only-of-type {\n",
       "        vertical-align: middle;\n",
       "    }\n",
       "\n",
       "    .dataframe tbody tr th {\n",
       "        vertical-align: top;\n",
       "    }\n",
       "\n",
       "    .dataframe thead th {\n",
       "        text-align: right;\n",
       "    }\n",
       "</style>\n",
       "<table border=\"1\" class=\"dataframe\">\n",
       "  <thead>\n",
       "    <tr style=\"text-align: right;\">\n",
       "      <th></th>\n",
       "      <th>date</th>\n",
       "      <th>Барааны нэр</th>\n",
       "      <th>хэмжих нэгж</th>\n",
       "      <th>variable</th>\n",
       "      <th>value</th>\n",
       "    </tr>\n",
       "  </thead>\n",
       "  <tbody>\n",
       "    <tr>\n",
       "      <th>0</th>\n",
       "      <td>2021-11-24</td>\n",
       "      <td>\"Алтан тариа\" гурил дээд</td>\n",
       "      <td>кг</td>\n",
       "      <td>\"Баянзүрх\" зах</td>\n",
       "      <td>1600.0</td>\n",
       "    </tr>\n",
       "    <tr>\n",
       "      <th>1</th>\n",
       "      <td>2021-11-24</td>\n",
       "      <td>\"Алтан тариа\" гурил 1-р зэрэг</td>\n",
       "      <td>кг</td>\n",
       "      <td>\"Баянзүрх\" зах</td>\n",
       "      <td>1350.0</td>\n",
       "    </tr>\n",
       "    <tr>\n",
       "      <th>2</th>\n",
       "      <td>2021-11-24</td>\n",
       "      <td>\"Алтан тариа\" савласан гурил дээдийн дээд</td>\n",
       "      <td>кг</td>\n",
       "      <td>\"Баянзүрх\" зах</td>\n",
       "      <td>2200.0</td>\n",
       "    </tr>\n",
       "    <tr>\n",
       "      <th>3</th>\n",
       "      <td>2021-11-24</td>\n",
       "      <td>\"Алтан тариа\" савласан гурил дээд</td>\n",
       "      <td>кг</td>\n",
       "      <td>\"Баянзүрх\" зах</td>\n",
       "      <td>1600.0</td>\n",
       "    </tr>\n",
       "    <tr>\n",
       "      <th>4</th>\n",
       "      <td>2021-11-24</td>\n",
       "      <td>\"Алтан тариа\" савласан гурил 1-р зэрэг</td>\n",
       "      <td>кг</td>\n",
       "      <td>\"Баянзүрх\" зах</td>\n",
       "      <td>1400.0</td>\n",
       "    </tr>\n",
       "  </tbody>\n",
       "</table>\n",
       "</div>"
      ],
      "text/plain": [
       "         date                                Барааны нэр хэмжих нэгж  \\\n",
       "0  2021-11-24                   \"Алтан тариа\" гурил дээд          кг   \n",
       "1  2021-11-24              \"Алтан тариа\" гурил 1-р зэрэг          кг   \n",
       "2  2021-11-24  \"Алтан тариа\" савласан гурил дээдийн дээд          кг   \n",
       "3  2021-11-24          \"Алтан тариа\" савласан гурил дээд          кг   \n",
       "4  2021-11-24     \"Алтан тариа\" савласан гурил 1-р зэрэг          кг   \n",
       "\n",
       "         variable   value  \n",
       "0  \"Баянзүрх\" зах  1600.0  \n",
       "1  \"Баянзүрх\" зах  1350.0  \n",
       "2  \"Баянзүрх\" зах  2200.0  \n",
       "3  \"Баянзүрх\" зах  1600.0  \n",
       "4  \"Баянзүрх\" зах  1400.0  "
      ]
     },
     "execution_count": 10,
     "metadata": {},
     "output_type": "execute_result"
    }
   ],
   "source": [
    "main_df = pd.concat(main_df, axis=0)\n",
    "main_df = main_df.reset_index()\n",
    "main_df = main_df.drop(['level_1'], axis=1)\n",
    "main_df = main_df.rename({'level_0': 'date'}, axis=1)\n",
    "main_df = pd.melt(main_df, id_vars=['date', 'Барааны нэр', 'хэмжих нэгж'], value_vars=main_df.columns.drop(['date', 'Барааны нэр', 'хэмжих нэгж']))\n",
    "main_df.head()"
   ]
  },
  {
   "cell_type": "code",
   "execution_count": 11,
   "id": "647b3d53",
   "metadata": {
    "cell_id": "00012-eda21a0c-07df-41d5-aa3c-c747695313d9",
    "deepnote_cell_type": "code",
    "deepnote_output_heights": [
     232.25
    ],
    "deepnote_to_be_reexecuted": false,
    "execution_millis": 14,
    "execution_start": 1638088952272,
    "source_hash": "b43eaf5",
    "tags": []
   },
   "outputs": [],
   "source": [
    "main_df['date'] = pd.to_datetime(main_df['date'])"
   ]
  },
  {
   "cell_type": "code",
   "execution_count": 12,
   "id": "ac497583",
   "metadata": {
    "cell_id": "00013-486cf366-4bcd-4946-b11a-6fad3f650971",
    "deepnote_cell_type": "code",
    "deepnote_to_be_reexecuted": false,
    "execution_millis": 28,
    "execution_start": 1638088955387,
    "source_hash": "4670650f",
    "tags": []
   },
   "outputs": [],
   "source": [
    "main_df = main_df.sort_values(by='date').reset_index(drop=True)"
   ]
  },
  {
   "cell_type": "code",
   "execution_count": 13,
   "id": "4172ce2b",
   "metadata": {
    "cell_id": "00014-fd788e5f-3a76-48df-b64f-17a3251f6dc8",
    "deepnote_cell_type": "code",
    "deepnote_to_be_reexecuted": false,
    "execution_millis": 5,
    "execution_start": 1638088956811,
    "source_hash": "84b89342",
    "tags": []
   },
   "outputs": [
    {
     "name": "stdout",
     "output_type": "stream",
     "text": [
      "2019-01-02 00:00:00\n",
      "2021-11-24 00:00:00\n"
     ]
    }
   ],
   "source": [
    "print(main_df['date'].min())\n",
    "print(main_df['date'].max())"
   ]
  },
  {
   "cell_type": "markdown",
   "id": "9e98b9e6",
   "metadata": {
    "cell_id": "00015-f2c4f57d-1a25-4594-863a-20c572e20b8b",
    "deepnote_cell_type": "markdown",
    "tags": []
   },
   "source": [
    "## Translation and Merging of Markets"
   ]
  },
  {
   "cell_type": "markdown",
   "id": "a314d35e",
   "metadata": {
    "cell_id": "00016-ccd57e66-becd-49cb-a30a-33b47ddc5d90",
    "deepnote_cell_type": "markdown",
    "tags": []
   },
   "source": [
    "We will have two versions of this dataset, English and Mongolian. Also, some markets have been merged or moved (Mercury moved to Ikh Nayad, Max was renamed to M Mart)."
   ]
  },
  {
   "cell_type": "code",
   "execution_count": 14,
   "id": "61119a5d",
   "metadata": {
    "cell_id": "00017-f9d3ff2b-1b28-4062-a02c-6afb235ad3f3",
    "deepnote_cell_type": "code",
    "deepnote_to_be_reexecuted": false,
    "execution_millis": 45,
    "execution_start": 1638088959650,
    "source_hash": "b95e8f67",
    "tags": []
   },
   "outputs": [
    {
     "data": {
      "text/html": [
       "<div>\n",
       "<style scoped>\n",
       "    .dataframe tbody tr th:only-of-type {\n",
       "        vertical-align: middle;\n",
       "    }\n",
       "\n",
       "    .dataframe tbody tr th {\n",
       "        vertical-align: top;\n",
       "    }\n",
       "\n",
       "    .dataframe thead th {\n",
       "        text-align: right;\n",
       "    }\n",
       "</style>\n",
       "<table border=\"1\" class=\"dataframe\">\n",
       "  <thead>\n",
       "    <tr style=\"text-align: right;\">\n",
       "      <th></th>\n",
       "      <th>date</th>\n",
       "      <th>Барааны нэр</th>\n",
       "      <th>хэмжих нэгж</th>\n",
       "      <th>variable</th>\n",
       "      <th>value</th>\n",
       "    </tr>\n",
       "  </thead>\n",
       "  <tbody>\n",
       "    <tr>\n",
       "      <th>0</th>\n",
       "      <td>2019-01-02</td>\n",
       "      <td>Өндөг, ОХУ</td>\n",
       "      <td>ширхэг</td>\n",
       "      <td>\"Таван эрдэнэ\"   зах</td>\n",
       "      <td>310.0</td>\n",
       "    </tr>\n",
       "    <tr>\n",
       "      <th>1</th>\n",
       "      <td>2019-01-02</td>\n",
       "      <td>Будаа шар</td>\n",
       "      <td>кг</td>\n",
       "      <td>\"Саруул\" зах</td>\n",
       "      <td>NaN</td>\n",
       "    </tr>\n",
       "    <tr>\n",
       "      <th>2</th>\n",
       "      <td>2019-01-02</td>\n",
       "      <td>Цөцгийн тос, \"Сүү\" ХК</td>\n",
       "      <td>кг</td>\n",
       "      <td>\"Саруул\" зах</td>\n",
       "      <td>NaN</td>\n",
       "    </tr>\n",
       "    <tr>\n",
       "      <th>3</th>\n",
       "      <td>2019-01-02</td>\n",
       "      <td>Ургамлын тос</td>\n",
       "      <td>1 литр</td>\n",
       "      <td>\"Саруул\" зах</td>\n",
       "      <td>NaN</td>\n",
       "    </tr>\n",
       "    <tr>\n",
       "      <th>4</th>\n",
       "      <td>2019-01-02</td>\n",
       "      <td>Ногоон цай, Гүрж</td>\n",
       "      <td>кг</td>\n",
       "      <td>\"Саруул\" зах</td>\n",
       "      <td>NaN</td>\n",
       "    </tr>\n",
       "  </tbody>\n",
       "</table>\n",
       "</div>"
      ],
      "text/plain": [
       "        date            Барааны нэр хэмжих нэгж              variable  value\n",
       "0 2019-01-02             Өндөг, ОХУ      ширхэг  \"Таван эрдэнэ\"   зах  310.0\n",
       "1 2019-01-02              Будаа шар          кг          \"Саруул\" зах    NaN\n",
       "2 2019-01-02  Цөцгийн тос, \"Сүү\" ХК          кг          \"Саруул\" зах    NaN\n",
       "3 2019-01-02           Ургамлын тос      1 литр          \"Саруул\" зах    NaN\n",
       "4 2019-01-02       Ногоон цай, Гүрж          кг          \"Саруул\" зах    NaN"
      ]
     },
     "execution_count": 14,
     "metadata": {},
     "output_type": "execute_result"
    }
   ],
   "source": [
    "main_df.head()"
   ]
  },
  {
   "cell_type": "markdown",
   "id": "c6ea3615",
   "metadata": {
    "cell_id": "00018-fac95d43-04de-4319-955d-69bf7fafc15f",
    "deepnote_cell_type": "markdown"
   },
   "source": [
    "Split off version for Mongolian and English"
   ]
  },
  {
   "cell_type": "code",
   "execution_count": 15,
   "id": "c240831a",
   "metadata": {
    "cell_id": "00019-8766f873-d3f8-48cd-839e-488fa920bf28",
    "deepnote_cell_type": "code",
    "deepnote_to_be_reexecuted": false,
    "execution_millis": 6,
    "execution_start": 1638088962130,
    "source_hash": "bd55f00c"
   },
   "outputs": [],
   "source": [
    "mgl_df = main_df.rename(columns={'variable':'market', 'value':'price',\n",
    "                                 'Барааны нэр':'product','хэмжих нэгж':'size'})"
   ]
  },
  {
   "cell_type": "code",
   "execution_count": 16,
   "id": "b0e97687",
   "metadata": {
    "cell_id": "00017-117a50f4-655e-4332-9d68-138bbaf6d380",
    "deepnote_cell_type": "code",
    "deepnote_to_be_reexecuted": false,
    "execution_millis": 0,
    "execution_start": 1638088962773,
    "source_hash": "704ea8bb",
    "tags": []
   },
   "outputs": [],
   "source": [
    "eng_df = main_df.rename(columns={'variable':'market', 'value':'price',\n",
    "                                 'Барааны нэр':'product','хэмжих нэгж':'size'})"
   ]
  },
  {
   "cell_type": "markdown",
   "id": "5da936bf",
   "metadata": {
    "cell_id": "00021-d4adfa21-963b-4c76-a4ab-3a2a812f1905",
    "deepnote_cell_type": "markdown"
   },
   "source": [
    "### Mongolian Dataframe Edits"
   ]
  },
  {
   "cell_type": "code",
   "execution_count": 17,
   "id": "7653d4b3",
   "metadata": {
    "cell_id": "00022-53ded278-37fd-4a02-a2d4-606494cecd05",
    "deepnote_cell_type": "code",
    "deepnote_to_be_reexecuted": false,
    "execution_millis": 0,
    "execution_start": 1638088964448,
    "source_hash": "4c381047"
   },
   "outputs": [],
   "source": [
    "market_translate_mn = {'\"Меркури\" зах':'\"Меркури\" зах/Их наяд ХТ', 'Их наяд ХТ':'\"Меркури\" зах/Их наяд ХТ',\n",
    "                       'Макс Супер-маркет':'Макс/М Март Супер-маркет'}"
   ]
  },
  {
   "cell_type": "code",
   "execution_count": 18,
   "id": "0819575f",
   "metadata": {
    "cell_id": "00023-9316bb0b-f62f-4aae-961c-c48fc9d8d84e",
    "deepnote_cell_type": "code",
    "deepnote_to_be_reexecuted": false,
    "execution_millis": 0,
    "execution_start": 1638088965065,
    "source_hash": "e4fa80ec"
   },
   "outputs": [],
   "source": [
    "mgl_df['market'] = mgl_df['market'].replace(market_translate_mn)"
   ]
  },
  {
   "cell_type": "markdown",
   "id": "c9286108",
   "metadata": {
    "cell_id": "00024-0f33f9b3-672e-44b4-8f93-f7ef160924eb",
    "deepnote_cell_type": "markdown"
   },
   "source": [
    "The Suu brand product names are a bit wonky because of how they were merged. Let's fix that."
   ]
  },
  {
   "cell_type": "code",
   "execution_count": 19,
   "id": "a535464d",
   "metadata": {
    "cell_id": "00025-4c1cdbf2-9ecb-4455-a190-ba27d8aa0e8a",
    "deepnote_cell_type": "code",
    "deepnote_output_heights": [
     289.8125
    ],
    "deepnote_to_be_reexecuted": false,
    "execution_millis": 11,
    "execution_start": 1638088965072,
    "source_hash": "3b6d8da5"
   },
   "outputs": [
    {
     "data": {
      "text/plain": [
       "array(['Өндөг, ОХУ', 'Будаа шар', 'Цөцгийн тос, \"Сүү\" ХК', 'Ургамлын тос',\n",
       "       'Ногоон цай, Гүрж', 'Элсэн чихэр', 'Хонины мах ястай',\n",
       "       'Хонины мах цул', 'Үхрийн мах ястай', 'Үхрийн мах цул',\n",
       "       'Адууны мах, ястай', 'Ямааны мах, ястай', 'Будаа цагаан',\n",
       "       'Төмс, монгол', 'Байцаа, монгол', 'Хүрэн манжин, монгол',\n",
       "       'Сонгино, хятад', 'Алим, фүжи', '\"Алтан тариа\" гурил дээд',\n",
       "       '\"Алтан тариа\" гурил 1-р зэрэг',\n",
       "       '\"Алтан тариа\" савласан гурил дээдийн дээд',\n",
       "       '\"Алтан тариа\" савласан гурил дээд',\n",
       "       '\"Алтан тариа\" савласан гурил 1-р зэрэг',\n",
       "       '\"Алтан тариа\" савласан гурил 2-р зэрэг', 'Лууван, монгол',\n",
       "       'Талх Хар талх', 'Талх Зууван чех', 'Талх Атар',\n",
       "       '\"Алейка\" дээд гурил', 'Сүү Сүү ХК 1л', 'Сүү Сүү ХК 0.5л',\n",
       "       'Сүү Задгай', 'Тараг, Цөцгийтэй', 'Нөөцийн мах, ястай үхэр',\n",
       "       'Нөөцийн мах, ястай хонь', 'Нөөцийн мах, ястай ямаа'], dtype=object)"
      ]
     },
     "execution_count": 19,
     "metadata": {},
     "output_type": "execute_result"
    }
   ],
   "source": [
    "mgl_df['product'].unique()"
   ]
  },
  {
   "cell_type": "code",
   "execution_count": 20,
   "id": "bb96bb8c",
   "metadata": {
    "cell_id": "00026-0208feb7-3ce3-4a45-9fb3-7de32d22cfda",
    "deepnote_cell_type": "code",
    "deepnote_to_be_reexecuted": false,
    "execution_millis": 60,
    "execution_start": 1638088965728,
    "source_hash": "71266bb5"
   },
   "outputs": [],
   "source": [
    "mgl_df['product'] = mgl_df['product'].str.replace('Сүү Сүү', 'Сүү')"
   ]
  },
  {
   "cell_type": "markdown",
   "id": "41ab4e6e",
   "metadata": {
    "cell_id": "00028-f1c05be1-6d6a-4e06-93fb-723d182f7d54",
    "deepnote_cell_type": "markdown",
    "tags": []
   },
   "source": [
    "Since we renamed two markets to have the same name (Mercury and Ikh Nayad), we have duplicate dates and products for the same markets, but with NaNs. This is because Mercury closed and the shops moved to Ikh Nayad. Let's merge those."
   ]
  },
  {
   "cell_type": "code",
   "execution_count": 21,
   "id": "df61d6b0",
   "metadata": {
    "cell_id": "00029-44c044a4-4cff-4cb9-be86-163845350474",
    "deepnote_cell_type": "code",
    "deepnote_to_be_reexecuted": false,
    "execution_millis": 71,
    "execution_start": 1638088966674,
    "source_hash": "5cdabf26",
    "tags": []
   },
   "outputs": [],
   "source": [
    "mgl_df = mgl_df.groupby(by=['date','product','market']).first().reset_index()"
   ]
  },
  {
   "cell_type": "code",
   "execution_count": 22,
   "id": "75ebd21d",
   "metadata": {
    "cell_id": "00027-45d617c4-c85b-4c6a-9304-a6fed53c6e2d",
    "deepnote_cell_type": "code",
    "deepnote_output_heights": [
     382.1875
    ],
    "deepnote_to_be_reexecuted": false,
    "execution_millis": 490,
    "execution_start": 1638088967377,
    "source_hash": "5cef4978"
   },
   "outputs": [
    {
     "data": {
      "text/html": [
       "<div>\n",
       "<style scoped>\n",
       "    .dataframe tbody tr th:only-of-type {\n",
       "        vertical-align: middle;\n",
       "    }\n",
       "\n",
       "    .dataframe tbody tr th {\n",
       "        vertical-align: top;\n",
       "    }\n",
       "\n",
       "    .dataframe thead th {\n",
       "        text-align: right;\n",
       "    }\n",
       "</style>\n",
       "<table border=\"1\" class=\"dataframe\">\n",
       "  <thead>\n",
       "    <tr style=\"text-align: right;\">\n",
       "      <th></th>\n",
       "      <th>date</th>\n",
       "      <th>product</th>\n",
       "      <th>market</th>\n",
       "      <th>size</th>\n",
       "      <th>price</th>\n",
       "    </tr>\n",
       "  </thead>\n",
       "  <tbody>\n",
       "    <tr>\n",
       "      <th>0</th>\n",
       "      <td>2019-01-02</td>\n",
       "      <td>\"Алейка\" дээд гурил</td>\n",
       "      <td>\"Барс\" хт</td>\n",
       "      <td>кг</td>\n",
       "      <td>NaN</td>\n",
       "    </tr>\n",
       "    <tr>\n",
       "      <th>1</th>\n",
       "      <td>2019-01-02</td>\n",
       "      <td>\"Алейка\" дээд гурил</td>\n",
       "      <td>\"Баянзүрх\" зах</td>\n",
       "      <td>кг</td>\n",
       "      <td>NaN</td>\n",
       "    </tr>\n",
       "    <tr>\n",
       "      <th>2</th>\n",
       "      <td>2019-01-02</td>\n",
       "      <td>\"Алейка\" дээд гурил</td>\n",
       "      <td>\"Бөмбөгөр\" хт</td>\n",
       "      <td>кг</td>\n",
       "      <td>NaN</td>\n",
       "    </tr>\n",
       "    <tr>\n",
       "      <th>3</th>\n",
       "      <td>2019-01-02</td>\n",
       "      <td>\"Алейка\" дээд гурил</td>\n",
       "      <td>\"Меркури\" зах/Их наяд ХТ</td>\n",
       "      <td>кг</td>\n",
       "      <td>NaN</td>\n",
       "    </tr>\n",
       "    <tr>\n",
       "      <th>4</th>\n",
       "      <td>2019-01-02</td>\n",
       "      <td>\"Алейка\" дээд гурил</td>\n",
       "      <td>\"Сансар\" Супер-маркет</td>\n",
       "      <td>кг</td>\n",
       "      <td>NaN</td>\n",
       "    </tr>\n",
       "    <tr>\n",
       "      <th>...</th>\n",
       "      <td>...</td>\n",
       "      <td>...</td>\n",
       "      <td>...</td>\n",
       "      <td>...</td>\n",
       "      <td>...</td>\n",
       "    </tr>\n",
       "    <tr>\n",
       "      <th>61095</th>\n",
       "      <td>2021-11-24</td>\n",
       "      <td>Өндөг, ОХУ</td>\n",
       "      <td>\"Хүчит шонхор\"  зах</td>\n",
       "      <td>ширхэг</td>\n",
       "      <td>400.0</td>\n",
       "    </tr>\n",
       "    <tr>\n",
       "      <th>61096</th>\n",
       "      <td>2021-11-24</td>\n",
       "      <td>Өндөг, ОХУ</td>\n",
       "      <td>Имарт</td>\n",
       "      <td>ширхэг</td>\n",
       "      <td>440.0</td>\n",
       "    </tr>\n",
       "    <tr>\n",
       "      <th>61097</th>\n",
       "      <td>2021-11-24</td>\n",
       "      <td>Өндөг, ОХУ</td>\n",
       "      <td>Макс/М Март Супер-маркет</td>\n",
       "      <td>ширхэг</td>\n",
       "      <td>500.0</td>\n",
       "    </tr>\n",
       "    <tr>\n",
       "      <th>61098</th>\n",
       "      <td>2021-11-24</td>\n",
       "      <td>Өндөг, ОХУ</td>\n",
       "      <td>Номин Супер-маркет</td>\n",
       "      <td>ширхэг</td>\n",
       "      <td>499.0</td>\n",
       "    </tr>\n",
       "    <tr>\n",
       "      <th>61099</th>\n",
       "      <td>2021-11-24</td>\n",
       "      <td>Өндөг, ОХУ</td>\n",
       "      <td>Оргил Супер-маркет</td>\n",
       "      <td>ширхэг</td>\n",
       "      <td>480.0</td>\n",
       "    </tr>\n",
       "  </tbody>\n",
       "</table>\n",
       "<p>61100 rows × 5 columns</p>\n",
       "</div>"
      ],
      "text/plain": [
       "            date              product                    market    size  price\n",
       "0     2019-01-02  \"Алейка\" дээд гурил                 \"Барс\" хт      кг    NaN\n",
       "1     2019-01-02  \"Алейка\" дээд гурил            \"Баянзүрх\" зах      кг    NaN\n",
       "2     2019-01-02  \"Алейка\" дээд гурил             \"Бөмбөгөр\" хт      кг    NaN\n",
       "3     2019-01-02  \"Алейка\" дээд гурил  \"Меркури\" зах/Их наяд ХТ      кг    NaN\n",
       "4     2019-01-02  \"Алейка\" дээд гурил     \"Сансар\" Супер-маркет      кг    NaN\n",
       "...          ...                  ...                       ...     ...    ...\n",
       "61095 2021-11-24           Өндөг, ОХУ       \"Хүчит шонхор\"  зах  ширхэг  400.0\n",
       "61096 2021-11-24           Өндөг, ОХУ                     Имарт  ширхэг  440.0\n",
       "61097 2021-11-24           Өндөг, ОХУ  Макс/М Март Супер-маркет  ширхэг  500.0\n",
       "61098 2021-11-24           Өндөг, ОХУ        Номин Супер-маркет  ширхэг  499.0\n",
       "61099 2021-11-24           Өндөг, ОХУ        Оргил Супер-маркет  ширхэг  480.0\n",
       "\n",
       "[61100 rows x 5 columns]"
      ]
     },
     "execution_count": 22,
     "metadata": {},
     "output_type": "execute_result"
    }
   ],
   "source": [
    "mgl_df"
   ]
  },
  {
   "cell_type": "markdown",
   "id": "e3d4a934",
   "metadata": {
    "cell_id": "00028-026279ee-16f6-4c51-9017-8fcc48d186df",
    "deepnote_cell_type": "markdown"
   },
   "source": [
    "The Mongolian dataset is now done, and can be written to a CSV file."
   ]
  },
  {
   "cell_type": "code",
   "execution_count": 24,
   "id": "ed793f48",
   "metadata": {
    "cell_id": "00029-62923478-ba9a-44e0-8706-f0930c56f4ef",
    "deepnote_cell_type": "code",
    "deepnote_to_be_reexecuted": false,
    "execution_millis": 828,
    "execution_start": 1638088971168,
    "source_hash": "1f4521b8"
   },
   "outputs": [],
   "source": [
    "mgl_df.to_csv('data/prices_mn.csv', index=False)"
   ]
  },
  {
   "cell_type": "markdown",
   "id": "4e2a801a",
   "metadata": {
    "cell_id": "00030-e0de82b4-fe7b-4cac-a1a1-cacb227c36e6",
    "deepnote_cell_type": "markdown",
    "tags": []
   },
   "source": [
    "### English Dataframe Edits"
   ]
  },
  {
   "cell_type": "code",
   "execution_count": 25,
   "id": "be445786",
   "metadata": {
    "cell_id": "00016-f45fbcdd-d427-4189-99a6-7faa4224a6a5",
    "deepnote_cell_type": "code",
    "deepnote_to_be_reexecuted": false,
    "execution_millis": 0,
    "execution_start": 1638088972862,
    "source_hash": "87ce58c2",
    "tags": []
   },
   "outputs": [],
   "source": [
    "market_translate_en = {'\"Барс\" хт':'Bars', '\"Баянзүрх\" зах':'Bayanzurkh', '\"Бөмбөгөр\" хт':'Bumbugur', '\"Меркури\" зах':'Mercury/Ikh Nayad',\n",
    "                       '\"Сансар\" Супер-маркет':'Sansar', '\"Саруул\" зах':'Saruul', '\"Таван эрдэнэ\"   зах':'Tavan Erdene',\n",
    "                       '\"Хар хорин\" зах':'Kharkhorin', '\"Хүчит шонхор\"  зах':'Khuchit Shonkhor', 'Имарт':'Emart', 'Их наяд ХТ':'Mercury/Ikh Nayad',\n",
    "                       'Макс Супер-маркет':'Max/M Mart', 'Номин Супер-маркет':'Nomin', 'Оргил Супер-маркет':'Orgil'}"
   ]
  },
  {
   "cell_type": "code",
   "execution_count": 26,
   "id": "9598bf0c",
   "metadata": {
    "cell_id": "00032-72b5b11f-f2a8-4dcf-a023-7b6a01a08e7f",
    "deepnote_cell_type": "code",
    "deepnote_to_be_reexecuted": false,
    "execution_millis": 17,
    "execution_start": 1638088973471,
    "source_hash": "12df0722"
   },
   "outputs": [],
   "source": [
    "eng_df['market'] = eng_df['market'].replace(market_translate_en)"
   ]
  },
  {
   "cell_type": "code",
   "execution_count": 27,
   "id": "71b245a9",
   "metadata": {
    "cell_id": "00033-18518d59-3055-44c0-830a-d312002be38c",
    "deepnote_cell_type": "code",
    "deepnote_output_heights": [
     21.1875
    ],
    "deepnote_to_be_reexecuted": false,
    "execution_millis": 7,
    "execution_start": 1638088974117,
    "source_hash": "d893cd71"
   },
   "outputs": [
    {
     "data": {
      "text/plain": [
       "array(['ширхэг', 'кг', '1 литр', '300 гр', 'литр'], dtype=object)"
      ]
     },
     "execution_count": 27,
     "metadata": {},
     "output_type": "execute_result"
    }
   ],
   "source": [
    "eng_df['size'].unique()"
   ]
  },
  {
   "cell_type": "code",
   "execution_count": 28,
   "id": "2928d702",
   "metadata": {
    "cell_id": "00034-de0a3965-5aa3-4c6f-aaf1-b1d898d884e7",
    "deepnote_cell_type": "code",
    "deepnote_to_be_reexecuted": false,
    "execution_millis": 0,
    "execution_start": 1638088974710,
    "source_hash": "337fcb0b"
   },
   "outputs": [],
   "source": [
    "size_translate = {'ширхэг':'each', 'кг':'kg', '1 литр':'1 liter', '300 гр':'300 g', 'литр':'liter'}"
   ]
  },
  {
   "cell_type": "code",
   "execution_count": 29,
   "id": "9cfddc7c",
   "metadata": {
    "cell_id": "00035-4a05c3a9-81d9-4b50-ba1e-604e2a1f14e0",
    "deepnote_cell_type": "code",
    "deepnote_to_be_reexecuted": false,
    "execution_millis": 12,
    "execution_start": 1638088975414,
    "source_hash": "de16ee13"
   },
   "outputs": [],
   "source": [
    "eng_df['size'] = eng_df['size'].replace(size_translate)"
   ]
  },
  {
   "cell_type": "code",
   "execution_count": 30,
   "id": "289c80c4",
   "metadata": {
    "cell_id": "00036-8c86053e-2bd6-491d-9884-335e932d9430",
    "deepnote_cell_type": "code",
    "deepnote_output_heights": [
     309
    ],
    "deepnote_to_be_reexecuted": false,
    "execution_millis": 14,
    "execution_start": 1638088975994,
    "source_hash": "a6b17e14"
   },
   "outputs": [
    {
     "data": {
      "text/plain": [
       "array(['Өндөг, ОХУ', 'Будаа шар', 'Цөцгийн тос, \"Сүү\" ХК', 'Ургамлын тос',\n",
       "       'Ногоон цай, Гүрж', 'Элсэн чихэр', 'Хонины мах ястай',\n",
       "       'Хонины мах цул', 'Үхрийн мах ястай', 'Үхрийн мах цул',\n",
       "       'Адууны мах, ястай', 'Ямааны мах, ястай', 'Будаа цагаан',\n",
       "       'Төмс, монгол', 'Байцаа, монгол', 'Хүрэн манжин, монгол',\n",
       "       'Сонгино, хятад', 'Алим, фүжи', '\"Алтан тариа\" гурил дээд',\n",
       "       '\"Алтан тариа\" гурил 1-р зэрэг',\n",
       "       '\"Алтан тариа\" савласан гурил дээдийн дээд',\n",
       "       '\"Алтан тариа\" савласан гурил дээд',\n",
       "       '\"Алтан тариа\" савласан гурил 1-р зэрэг',\n",
       "       '\"Алтан тариа\" савласан гурил 2-р зэрэг', 'Лууван, монгол',\n",
       "       'Талх Хар талх', 'Талх Зууван чех', 'Талх Атар',\n",
       "       '\"Алейка\" дээд гурил', 'Сүү Сүү ХК 1л', 'Сүү Сүү ХК 0.5л',\n",
       "       'Сүү Задгай', 'Тараг, Цөцгийтэй', 'Нөөцийн мах, ястай үхэр',\n",
       "       'Нөөцийн мах, ястай хонь', 'Нөөцийн мах, ястай ямаа'], dtype=object)"
      ]
     },
     "execution_count": 30,
     "metadata": {},
     "output_type": "execute_result"
    }
   ],
   "source": [
    "eng_df['product'].unique()"
   ]
  },
  {
   "cell_type": "code",
   "execution_count": 31,
   "id": "560327c7",
   "metadata": {
    "cell_id": "00037-10bf9502-bc12-4b85-ae07-b7ab5cc381f1",
    "deepnote_cell_type": "code",
    "deepnote_to_be_reexecuted": false,
    "execution_millis": 6,
    "execution_start": 1638088976015,
    "source_hash": "fdad320",
    "tags": []
   },
   "outputs": [],
   "source": [
    "product_translate = {'Өндөг, ОХУ':'Egg, Russian', 'Будаа шар':'Yellow Rice', 'Цөцгийн тос, \"Сүү\" ХК':'Butter, Suu LTD', 'Ургамлын тос':'Vegatable Oil',\n",
    "                     'Ногоон цай, Гүрж':'Gree Tea, Georgia', 'Элсэн чихэр':'Sugar', 'Хонины мах ястай':'Mutton w/Bones',\n",
    "                     'Хонины мах цул':'Mutton Boneless', 'Үхрийн мах ястай':'Beef w/Bones', 'Үхрийн мах цул':'Beef Boneless',\n",
    "                     'Адууны мах, ястай':'Horse Meat w/Bones', 'Ямааны мах, ястай':'Goat Meat w/Bones', 'Будаа цагаан':'White Rice',\n",
    "                     'Төмс, монгол':'Potato, Mongolian', 'Байцаа, монгол':'Cabbage, Mongolian', 'Хүрэн манжин, монгол':'Beet, Mongolian',\n",
    "                     'Сонгино, хятад':'Onion, China', 'Алим, фүжи':'Apple, Fuji', '\"Алтан тариа\" гурил дээд':'Altan Taria Flour, High Grade',\n",
    "                     '\"Алтан тариа\" гурил 1-р зэрэг':'Altan Taria Flour, First Grade',\n",
    "                     '\"Алтан тариа\" савласан гурил дээдийн дээд':'Altan Taria Packaged Flour, Top Grade',\n",
    "                     '\"Алтан тариа\" савласан гурил дээд':'Altan Taria Packaged Flour, High Grade',\n",
    "                     '\"Алтан тариа\" савласан гурил 1-р зэрэг':'Altan Taria Packaged Flour, 1st Grade',\n",
    "                     '\"Алтан тариа\" савласан гурил 2-р зэрэг':'Altan Taria Packaged Flour, 2nd Grade', \n",
    "                     'Лууван, монгол':'Carrot, Mongolian', 'Талх Хар талх':'Brown Bread', 'Талх Зууван чех':'Round Bread, Czech Style', \n",
    "                     'Талх Атар':'Atar Brand Bread', '\"Алейка\" дээд гурил':'Aleika High Grade Flour', 'Сүү Сүү ХК 1л':'Suu Brand Milk, 1l', \n",
    "                     'Сүү Сүү ХК 0.5л':'Suu Brand Milk, 0.5l', 'Сүү Задгай':'Milk, Bulk', 'Тараг, Цөцгийтэй':'Yogurt', \n",
    "                     'Нөөцийн мах, ястай үхэр':'Reserve meat, beef w/bones',\n",
    "                     'Нөөцийн мах, ястай хонь':'Reserve meat, mutton w/bones', \n",
    "                     'Нөөцийн мах, ястай ямаа':'Reserve meat, goat w/bones'}"
   ]
  },
  {
   "cell_type": "code",
   "execution_count": 32,
   "id": "003f85c4",
   "metadata": {
    "cell_id": "00038-07cef02b-a484-42cb-8217-722fb6a0136f",
    "deepnote_cell_type": "code",
    "deepnote_to_be_reexecuted": false,
    "execution_millis": 0,
    "execution_start": 1638088977314,
    "source_hash": "50990b11"
   },
   "outputs": [],
   "source": [
    "eng_df['product'] = eng_df['product'].map(product_translate)"
   ]
  },
  {
   "cell_type": "markdown",
   "id": "cd7bd4cd",
   "metadata": {
    "cell_id": "00042-23ce07e2-a043-4a94-83f7-99b9996ba9b3",
    "deepnote_cell_type": "markdown",
    "tags": []
   },
   "source": [
    "Since we renamed two markets to have the same name (Mercury and Ikh Nayad), we have duplicate dates and products for the same markets, but with NaNs. This is because Mercury closed and the shops moved to Ikh Nayad. Let's merge those."
   ]
  },
  {
   "cell_type": "code",
   "execution_count": 33,
   "id": "4fbb12b5",
   "metadata": {
    "cell_id": "00042-4b99ec37-dd0f-44e6-b809-259f26d48898",
    "deepnote_cell_type": "code",
    "deepnote_to_be_reexecuted": false,
    "execution_millis": 36,
    "execution_start": 1638088977943,
    "source_hash": "7d289ef3",
    "tags": []
   },
   "outputs": [],
   "source": [
    "eng_df = eng_df.groupby(by=['date','product','market']).first().reset_index()"
   ]
  },
  {
   "cell_type": "code",
   "execution_count": 34,
   "id": "1efc6a95",
   "metadata": {
    "cell_id": "00039-ada14cbe-c218-415b-88a0-bbf3c0727c25",
    "deepnote_cell_type": "code",
    "deepnote_to_be_reexecuted": false,
    "execution_millis": 759,
    "execution_start": 1638088978551,
    "source_hash": "b80fece5"
   },
   "outputs": [],
   "source": [
    "eng_df.to_csv('data/prices_en.csv', index=False)"
   ]
  },
  {
   "cell_type": "markdown",
   "id": "307e0378",
   "metadata": {
    "cell_id": "00040-4bb78058-cf00-4b96-ba96-0d50b23e4649",
    "deepnote_cell_type": "markdown"
   },
   "source": [
    "## Upload to Kaggle"
   ]
  },
  {
   "cell_type": "markdown",
   "id": "a33d87ac",
   "metadata": {
    "cell_id": "00042-54fb247a-e297-4234-80a1-028eed6e2d6d",
    "deepnote_cell_type": "markdown",
    "tags": []
   },
   "source": [
    "We only do this once, so the code is commented out. But keeping here for fun."
   ]
  },
  {
   "cell_type": "code",
   "execution_count": null,
   "id": "6567838d",
   "metadata": {
    "cell_id": "00041-1ac6d97e-fc5c-4486-a4e4-6fa417548f25",
    "deepnote_cell_type": "code",
    "deepnote_to_be_reexecuted": false,
    "execution_millis": 1,
    "execution_start": 1638088980582,
    "source_hash": "92c55782",
    "tags": []
   },
   "outputs": [],
   "source": [
    "#!kaggle datasets init -p data"
   ]
  },
  {
   "cell_type": "markdown",
   "id": "2364a813",
   "metadata": {
    "cell_id": "00043-9eb82983-5251-48ad-9a9c-97e156c784da",
    "deepnote_cell_type": "markdown",
    "tags": []
   },
   "source": [
    "Now edit the JSON file with what you want."
   ]
  },
  {
   "cell_type": "code",
   "execution_count": null,
   "id": "aa432940",
   "metadata": {
    "cell_id": "00043-b9e9a898-c904-4f27-b377-e669562c27a5",
    "deepnote_cell_type": "code",
    "deepnote_to_be_reexecuted": false,
    "execution_millis": 4,
    "execution_start": 1638088981157,
    "source_hash": "8fa85909",
    "tags": []
   },
   "outputs": [],
   "source": [
    "#!kaggle datasets create -p data"
   ]
  },
  {
   "cell_type": "markdown",
   "id": "c48131e1",
   "metadata": {
    "cell_id": "00045-43220cff-3e76-43c9-bc97-c37fb393a952",
    "deepnote_cell_type": "markdown",
    "tags": []
   },
   "source": [
    "## Update Dataset"
   ]
  },
  {
   "cell_type": "markdown",
   "id": "0b9e2581",
   "metadata": {
    "cell_id": "00045-0fa13f1a-c92c-4940-91f1-3e6574d7fce8",
    "deepnote_cell_type": "markdown",
    "tags": []
   },
   "source": [
    "We will only do the creation once, so now we can comment out the two lines above. When updated the dataset we will down the metadata file from Kaggle.com since we will edit the metadata on Kaggle."
   ]
  },
  {
   "cell_type": "code",
   "execution_count": null,
   "id": "e791666e",
   "metadata": {
    "cell_id": "00047-7d9ddf11-0314-42e7-b982-338adf3b5461",
    "deepnote_cell_type": "code",
    "deepnote_to_be_reexecuted": false,
    "execution_millis": 1613,
    "execution_start": 1638088982669,
    "source_hash": "6b5f393e",
    "tags": []
   },
   "outputs": [],
   "source": [
    "!kaggle datasets metadata -p data robertritz/ub-market-prices"
   ]
  },
  {
   "cell_type": "code",
   "execution_count": null,
   "id": "ad30cd47",
   "metadata": {
    "cell_id": "00048-a9bd8979-3141-481e-adef-ebb5b1284fd3",
    "deepnote_cell_type": "code",
    "deepnote_to_be_reexecuted": false,
    "execution_millis": 1,
    "execution_start": 1638088984295,
    "source_hash": "65cf7918",
    "tags": []
   },
   "outputs": [],
   "source": [
    "date = datetime.datetime.today()"
   ]
  },
  {
   "cell_type": "code",
   "execution_count": null,
   "id": "eaa32cfa",
   "metadata": {
    "cell_id": "00044-5b3944ae-619e-4ab1-82d3-b42e5d729509",
    "deepnote_cell_type": "code",
    "deepnote_to_be_reexecuted": false,
    "execution_millis": 4058,
    "execution_start": 1638088984301,
    "source_hash": "3263f6bb",
    "tags": []
   },
   "outputs": [],
   "source": [
    "!kaggle datasets version -p data -m \"Updated dataset. {date}\""
   ]
  },
  {
   "cell_type": "markdown",
   "id": "41ee83ca",
   "metadata": {
    "cell_id": "00050-b4a276f0-0e5f-4d71-a569-af8bd8c748c9",
    "deepnote_cell_type": "markdown",
    "tags": []
   },
   "source": [
    "Now the updated dataset should be live!"
   ]
  }
 ],
 "metadata": {
  "deepnote": {},
  "deepnote_execution_queue": [],
  "deepnote_notebook_id": "d95e824e-91d6-4138-9635-d618414fd15c",
  "kernelspec": {
   "display_name": "Python 3 (ipykernel)",
   "language": "python",
   "name": "python3"
  },
  "language_info": {
   "codemirror_mode": {
    "name": "ipython",
    "version": 3
   },
   "file_extension": ".py",
   "mimetype": "text/x-python",
   "name": "python",
   "nbconvert_exporter": "python",
   "pygments_lexer": "ipython3",
   "version": "3.8.12"
  }
 },
 "nbformat": 4,
 "nbformat_minor": 5
}
