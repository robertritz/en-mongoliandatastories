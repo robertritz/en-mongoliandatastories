{
 "cells": [
  {
   "cell_type": "markdown",
   "id": "80aba78e-145f-49c5-ac54-9e2fd5c800f7",
   "metadata": {},
   "source": [
    "# Family Size and Income in Mongolia"
   ]
  },
  {
   "cell_type": "markdown",
   "id": "f27b9e26-7d94-4b1d-ba58-00bcc66e05b6",
   "metadata": {},
   "source": [
    "Our goal is simple, determine the average household income by the number of children (those under 18) in the household."
   ]
  },
  {
   "cell_type": "code",
   "execution_count": 1,
   "id": "ff9eaf8e-f3cd-467e-9701-340c62ab0a01",
   "metadata": {},
   "outputs": [],
   "source": [
    "import pandas as pd\n",
    "import numpy as np\n",
    "import matplotlib.pyplot as plt\n",
    "import datetime\n",
    "\n",
    "plt.style.use('mds.mplstyle')"
   ]
  },
  {
   "cell_type": "markdown",
   "id": "d56dfa69-0bd8-4aeb-8b44-1bc2cdf3f06d",
   "metadata": {},
   "source": [
    "### Basicvars data"
   ]
  },
  {
   "cell_type": "code",
   "execution_count": 2,
   "id": "855d78c7-0dc4-45e0-9ee3-8078068f1b02",
   "metadata": {},
   "outputs": [],
   "source": [
    "basicvars = pd.read_stata('data/basicvars.dta')"
   ]
  },
  {
   "cell_type": "code",
   "execution_count": 3,
   "id": "9cb37575-8c29-416e-a588-40fc94bfbc0a",
   "metadata": {},
   "outputs": [
    {
     "data": {
      "text/html": [
       "<div>\n",
       "<style scoped>\n",
       "    .dataframe tbody tr th:only-of-type {\n",
       "        vertical-align: middle;\n",
       "    }\n",
       "\n",
       "    .dataframe tbody tr th {\n",
       "        vertical-align: top;\n",
       "    }\n",
       "\n",
       "    .dataframe thead th {\n",
       "        text-align: right;\n",
       "    }\n",
       "</style>\n",
       "<table border=\"1\" class=\"dataframe\">\n",
       "  <thead>\n",
       "    <tr style=\"text-align: right;\">\n",
       "      <th></th>\n",
       "      <th>identif</th>\n",
       "      <th>cluster</th>\n",
       "      <th>newaimag</th>\n",
       "      <th>location</th>\n",
       "      <th>urban</th>\n",
       "      <th>region</th>\n",
       "      <th>quarter</th>\n",
       "      <th>strata</th>\n",
       "      <th>hhweight</th>\n",
       "      <th>hhsize</th>\n",
       "    </tr>\n",
       "  </thead>\n",
       "  <tbody>\n",
       "    <tr>\n",
       "      <th>0</th>\n",
       "      <td>1</td>\n",
       "      <td>1</td>\n",
       "      <td>Dornod</td>\n",
       "      <td>Aimagcenter</td>\n",
       "      <td>Urban</td>\n",
       "      <td>East</td>\n",
       "      <td>1</td>\n",
       "      <td>2</td>\n",
       "      <td>105.033333</td>\n",
       "      <td>4</td>\n",
       "    </tr>\n",
       "    <tr>\n",
       "      <th>1</th>\n",
       "      <td>2</td>\n",
       "      <td>1</td>\n",
       "      <td>Dornod</td>\n",
       "      <td>Aimagcenter</td>\n",
       "      <td>Urban</td>\n",
       "      <td>East</td>\n",
       "      <td>1</td>\n",
       "      <td>2</td>\n",
       "      <td>105.033333</td>\n",
       "      <td>4</td>\n",
       "    </tr>\n",
       "    <tr>\n",
       "      <th>2</th>\n",
       "      <td>3</td>\n",
       "      <td>1</td>\n",
       "      <td>Dornod</td>\n",
       "      <td>Aimagcenter</td>\n",
       "      <td>Urban</td>\n",
       "      <td>East</td>\n",
       "      <td>1</td>\n",
       "      <td>2</td>\n",
       "      <td>105.033333</td>\n",
       "      <td>8</td>\n",
       "    </tr>\n",
       "    <tr>\n",
       "      <th>3</th>\n",
       "      <td>4</td>\n",
       "      <td>1</td>\n",
       "      <td>Dornod</td>\n",
       "      <td>Aimagcenter</td>\n",
       "      <td>Urban</td>\n",
       "      <td>East</td>\n",
       "      <td>1</td>\n",
       "      <td>2</td>\n",
       "      <td>105.033333</td>\n",
       "      <td>3</td>\n",
       "    </tr>\n",
       "    <tr>\n",
       "      <th>4</th>\n",
       "      <td>5</td>\n",
       "      <td>1</td>\n",
       "      <td>Dornod</td>\n",
       "      <td>Aimagcenter</td>\n",
       "      <td>Urban</td>\n",
       "      <td>East</td>\n",
       "      <td>1</td>\n",
       "      <td>2</td>\n",
       "      <td>105.033333</td>\n",
       "      <td>2</td>\n",
       "    </tr>\n",
       "  </tbody>\n",
       "</table>\n",
       "</div>"
      ],
      "text/plain": [
       "   identif  cluster newaimag     location  urban region  quarter  strata  \\\n",
       "0        1        1   Dornod  Aimagcenter  Urban   East        1       2   \n",
       "1        2        1   Dornod  Aimagcenter  Urban   East        1       2   \n",
       "2        3        1   Dornod  Aimagcenter  Urban   East        1       2   \n",
       "3        4        1   Dornod  Aimagcenter  Urban   East        1       2   \n",
       "4        5        1   Dornod  Aimagcenter  Urban   East        1       2   \n",
       "\n",
       "     hhweight  hhsize  \n",
       "0  105.033333       4  \n",
       "1  105.033333       4  \n",
       "2  105.033333       8  \n",
       "3  105.033333       3  \n",
       "4  105.033333       2  "
      ]
     },
     "execution_count": 3,
     "metadata": {},
     "output_type": "execute_result"
    }
   ],
   "source": [
    "basicvars.head()"
   ]
  },
  {
   "cell_type": "markdown",
   "id": "e7bf35b3-75ba-40a5-917f-c99307ff648f",
   "metadata": {},
   "source": [
    "As Ulaanbaatar has a higher average salary than the countryside, we want to check for that. From the basicvars dataframe we want:\n",
    "- identif: Household ID\n",
    "- newaimag: The aimag (province)\n",
    "- urban: Urban or rural. Rural is a soum center or countryside. Urban is an aimag center or Ulaanbaatar."
   ]
  },
  {
   "cell_type": "code",
   "execution_count": 4,
   "id": "674a0f1f-9d22-4df9-b812-181124c509cd",
   "metadata": {},
   "outputs": [],
   "source": [
    "basicvars = basicvars[['identif','newaimag','urban']]"
   ]
  },
  {
   "cell_type": "code",
   "execution_count": 5,
   "id": "4d174532-e08f-4034-aec3-44ecc7810969",
   "metadata": {},
   "outputs": [
    {
     "data": {
      "text/html": [
       "<div>\n",
       "<style scoped>\n",
       "    .dataframe tbody tr th:only-of-type {\n",
       "        vertical-align: middle;\n",
       "    }\n",
       "\n",
       "    .dataframe tbody tr th {\n",
       "        vertical-align: top;\n",
       "    }\n",
       "\n",
       "    .dataframe thead th {\n",
       "        text-align: right;\n",
       "    }\n",
       "</style>\n",
       "<table border=\"1\" class=\"dataframe\">\n",
       "  <thead>\n",
       "    <tr style=\"text-align: right;\">\n",
       "      <th></th>\n",
       "      <th>identif</th>\n",
       "      <th>newaimag</th>\n",
       "      <th>urban</th>\n",
       "    </tr>\n",
       "  </thead>\n",
       "  <tbody>\n",
       "    <tr>\n",
       "      <th>0</th>\n",
       "      <td>1</td>\n",
       "      <td>Dornod</td>\n",
       "      <td>Urban</td>\n",
       "    </tr>\n",
       "    <tr>\n",
       "      <th>1</th>\n",
       "      <td>2</td>\n",
       "      <td>Dornod</td>\n",
       "      <td>Urban</td>\n",
       "    </tr>\n",
       "    <tr>\n",
       "      <th>2</th>\n",
       "      <td>3</td>\n",
       "      <td>Dornod</td>\n",
       "      <td>Urban</td>\n",
       "    </tr>\n",
       "    <tr>\n",
       "      <th>3</th>\n",
       "      <td>4</td>\n",
       "      <td>Dornod</td>\n",
       "      <td>Urban</td>\n",
       "    </tr>\n",
       "    <tr>\n",
       "      <th>4</th>\n",
       "      <td>5</td>\n",
       "      <td>Dornod</td>\n",
       "      <td>Urban</td>\n",
       "    </tr>\n",
       "  </tbody>\n",
       "</table>\n",
       "</div>"
      ],
      "text/plain": [
       "   identif newaimag  urban\n",
       "0        1   Dornod  Urban\n",
       "1        2   Dornod  Urban\n",
       "2        3   Dornod  Urban\n",
       "3        4   Dornod  Urban\n",
       "4        5   Dornod  Urban"
      ]
     },
     "execution_count": 5,
     "metadata": {},
     "output_type": "execute_result"
    }
   ],
   "source": [
    "basicvars.head()"
   ]
  },
  {
   "cell_type": "markdown",
   "id": "9ef4e1a3-d20c-43cc-afa3-1b8a198210b3",
   "metadata": {},
   "source": [
    "### Individual Data"
   ]
  },
  {
   "cell_type": "code",
   "execution_count": 6,
   "id": "844bc605-ea9e-4cb8-9494-83aa3cc32130",
   "metadata": {},
   "outputs": [],
   "source": [
    "individual = pd.read_stata('data/02_indiv.dta')"
   ]
  },
  {
   "cell_type": "code",
   "execution_count": 7,
   "id": "29a18352-3dc9-4628-a18b-6253e2b6cab4",
   "metadata": {},
   "outputs": [
    {
     "data": {
      "text/html": [
       "<div>\n",
       "<style scoped>\n",
       "    .dataframe tbody tr th:only-of-type {\n",
       "        vertical-align: middle;\n",
       "    }\n",
       "\n",
       "    .dataframe tbody tr th {\n",
       "        vertical-align: top;\n",
       "    }\n",
       "\n",
       "    .dataframe thead th {\n",
       "        text-align: right;\n",
       "    }\n",
       "</style>\n",
       "<table border=\"1\" class=\"dataframe\">\n",
       "  <thead>\n",
       "    <tr style=\"text-align: right;\">\n",
       "      <th></th>\n",
       "      <th>identif</th>\n",
       "      <th>ind_id</th>\n",
       "      <th>q0102</th>\n",
       "      <th>q0103</th>\n",
       "      <th>q0104y</th>\n",
       "      <th>q0105y</th>\n",
       "      <th>q0105m</th>\n",
       "      <th>q0106</th>\n",
       "      <th>q0107</th>\n",
       "      <th>q0108a</th>\n",
       "      <th>...</th>\n",
       "      <th>q0207</th>\n",
       "      <th>q0208</th>\n",
       "      <th>q0209</th>\n",
       "      <th>q0210a</th>\n",
       "      <th>q0210b</th>\n",
       "      <th>q0210c</th>\n",
       "      <th>q0211</th>\n",
       "      <th>q0212a</th>\n",
       "      <th>q0212b</th>\n",
       "      <th>q0212c</th>\n",
       "    </tr>\n",
       "  </thead>\n",
       "  <tbody>\n",
       "    <tr>\n",
       "      <th>0</th>\n",
       "      <td>1</td>\n",
       "      <td>1</td>\n",
       "      <td>HEAD</td>\n",
       "      <td>MALE</td>\n",
       "      <td>1971</td>\n",
       "      <td>47</td>\n",
       "      <td>NaN</td>\n",
       "      <td>LIVING TOGETHER</td>\n",
       "      <td>2.0</td>\n",
       "      <td>0</td>\n",
       "      <td>...</td>\n",
       "      <td>1061.000000</td>\n",
       "      <td>LLC</td>\n",
       "      <td>YES</td>\n",
       "      <td>700000.0</td>\n",
       "      <td>8400000.0</td>\n",
       "      <td>0.0</td>\n",
       "      <td>NO</td>\n",
       "      <td>NaN</td>\n",
       "      <td>NaN</td>\n",
       "      <td>NaN</td>\n",
       "    </tr>\n",
       "    <tr>\n",
       "      <th>1</th>\n",
       "      <td>1</td>\n",
       "      <td>2</td>\n",
       "      <td>WIFE / HUSBAND</td>\n",
       "      <td>FEMALE</td>\n",
       "      <td>1971</td>\n",
       "      <td>47</td>\n",
       "      <td>NaN</td>\n",
       "      <td>LIVING TOGETHER</td>\n",
       "      <td>1.0</td>\n",
       "      <td>10</td>\n",
       "      <td>...</td>\n",
       "      <td>1061.000000</td>\n",
       "      <td>LLC</td>\n",
       "      <td>YES</td>\n",
       "      <td>300000.0</td>\n",
       "      <td>3600000.0</td>\n",
       "      <td>420000.0</td>\n",
       "      <td>NO</td>\n",
       "      <td>NaN</td>\n",
       "      <td>NaN</td>\n",
       "      <td>NaN</td>\n",
       "    </tr>\n",
       "    <tr>\n",
       "      <th>2</th>\n",
       "      <td>1</td>\n",
       "      <td>3</td>\n",
       "      <td>SON / DAUGHTER</td>\n",
       "      <td>FEMALE</td>\n",
       "      <td>1991</td>\n",
       "      <td>27</td>\n",
       "      <td>NaN</td>\n",
       "      <td>MARRIED</td>\n",
       "      <td>NaN</td>\n",
       "      <td>0</td>\n",
       "      <td>...</td>\n",
       "      <td>NaN</td>\n",
       "      <td>NaN</td>\n",
       "      <td>NaN</td>\n",
       "      <td>NaN</td>\n",
       "      <td>NaN</td>\n",
       "      <td>NaN</td>\n",
       "      <td>NaN</td>\n",
       "      <td>NaN</td>\n",
       "      <td>NaN</td>\n",
       "      <td>NaN</td>\n",
       "    </tr>\n",
       "    <tr>\n",
       "      <th>3</th>\n",
       "      <td>1</td>\n",
       "      <td>4</td>\n",
       "      <td>SON / DAUGHTER</td>\n",
       "      <td>MALE</td>\n",
       "      <td>2009</td>\n",
       "      <td>9</td>\n",
       "      <td>NaN</td>\n",
       "      <td>NaN</td>\n",
       "      <td>NaN</td>\n",
       "      <td>10</td>\n",
       "      <td>...</td>\n",
       "      <td>NaN</td>\n",
       "      <td>NaN</td>\n",
       "      <td>NaN</td>\n",
       "      <td>NaN</td>\n",
       "      <td>NaN</td>\n",
       "      <td>NaN</td>\n",
       "      <td>NaN</td>\n",
       "      <td>NaN</td>\n",
       "      <td>NaN</td>\n",
       "      <td>NaN</td>\n",
       "    </tr>\n",
       "    <tr>\n",
       "      <th>4</th>\n",
       "      <td>2</td>\n",
       "      <td>1</td>\n",
       "      <td>HEAD</td>\n",
       "      <td>FEMALE</td>\n",
       "      <td>1978</td>\n",
       "      <td>40</td>\n",
       "      <td>NaN</td>\n",
       "      <td>NEVER MARRIED</td>\n",
       "      <td>NaN</td>\n",
       "      <td>0</td>\n",
       "      <td>...</td>\n",
       "      <td>5610.100098</td>\n",
       "      <td>LLC</td>\n",
       "      <td>YES</td>\n",
       "      <td>0.0</td>\n",
       "      <td>2500000.0</td>\n",
       "      <td>0.0</td>\n",
       "      <td>NO</td>\n",
       "      <td>NaN</td>\n",
       "      <td>NaN</td>\n",
       "      <td>NaN</td>\n",
       "    </tr>\n",
       "  </tbody>\n",
       "</table>\n",
       "<p>5 rows × 28 columns</p>\n",
       "</div>"
      ],
      "text/plain": [
       "   identif  ind_id           q0102   q0103  q0104y  q0105y  q0105m  \\\n",
       "0        1       1            HEAD    MALE    1971      47     NaN   \n",
       "1        1       2  WIFE / HUSBAND  FEMALE    1971      47     NaN   \n",
       "2        1       3  SON / DAUGHTER  FEMALE    1991      27     NaN   \n",
       "3        1       4  SON / DAUGHTER    MALE    2009       9     NaN   \n",
       "4        2       1            HEAD  FEMALE    1978      40     NaN   \n",
       "\n",
       "             q0106 q0107  q0108a  ...        q0207 q0208 q0209    q0210a  \\\n",
       "0  LIVING TOGETHER   2.0       0  ...  1061.000000   LLC   YES  700000.0   \n",
       "1  LIVING TOGETHER   1.0      10  ...  1061.000000   LLC   YES  300000.0   \n",
       "2          MARRIED   NaN       0  ...          NaN   NaN   NaN       NaN   \n",
       "3              NaN   NaN      10  ...          NaN   NaN   NaN       NaN   \n",
       "4    NEVER MARRIED   NaN       0  ...  5610.100098   LLC   YES       0.0   \n",
       "\n",
       "      q0210b    q0210c q0211  q0212a  q0212b q0212c  \n",
       "0  8400000.0       0.0    NO     NaN     NaN    NaN  \n",
       "1  3600000.0  420000.0    NO     NaN     NaN    NaN  \n",
       "2        NaN       NaN   NaN     NaN     NaN    NaN  \n",
       "3        NaN       NaN   NaN     NaN     NaN    NaN  \n",
       "4  2500000.0       0.0    NO     NaN     NaN    NaN  \n",
       "\n",
       "[5 rows x 28 columns]"
      ]
     },
     "execution_count": 7,
     "metadata": {},
     "output_type": "execute_result"
    }
   ],
   "source": [
    "individual.head()"
   ]
  },
  {
   "cell_type": "markdown",
   "id": "5ce8154c-d579-4cd0-bb74-d4eaef9d51ac",
   "metadata": {},
   "source": [
    "From the individual dataframe we need:\n",
    "- identif: Household ID\n",
    "- q0105y: age of family member\n",
    "- q0210b: salary in past 12 months\n",
    "- q0212b: salary in past 12 months from 2nd job"
   ]
  },
  {
   "cell_type": "code",
   "execution_count": 8,
   "id": "230a86b5-a9e7-4d28-a015-ddf676515b87",
   "metadata": {},
   "outputs": [],
   "source": [
    "individual = individual[['identif','q0105y','q0210b','q0212b']]"
   ]
  },
  {
   "cell_type": "markdown",
   "id": "0c40420f-3356-499f-9593-a71c143cdfe2",
   "metadata": {},
   "source": [
    "## Feature Creation"
   ]
  },
  {
   "cell_type": "markdown",
   "id": "5df51893-28f1-42dc-a663-6a65dc43996d",
   "metadata": {},
   "source": [
    "We need to calculate the household income and the number of children in the household."
   ]
  },
  {
   "cell_type": "code",
   "execution_count": 9,
   "id": "b3922cf1-395b-497a-a066-a52e8da8c1b1",
   "metadata": {},
   "outputs": [
    {
     "data": {
      "text/plain": [
       "identif        0\n",
       "q0105y         0\n",
       "q0210b     31470\n",
       "q0212b     40524\n",
       "dtype: int64"
      ]
     },
     "execution_count": 9,
     "metadata": {},
     "output_type": "execute_result"
    }
   ],
   "source": [
    "individual.isna().sum()"
   ]
  },
  {
   "cell_type": "code",
   "execution_count": 10,
   "id": "0bd3f5f8-8318-4667-8cee-b85039ee3391",
   "metadata": {},
   "outputs": [],
   "source": [
    "individual = individual.fillna(0)"
   ]
  },
  {
   "cell_type": "code",
   "execution_count": 11,
   "id": "35b0476e-cba3-44c4-9cd4-4db1a6800ac0",
   "metadata": {},
   "outputs": [],
   "source": [
    "individual['household_income'] = individual['q0210b'] + individual['q0212b']"
   ]
  },
  {
   "cell_type": "code",
   "execution_count": 12,
   "id": "283262ce-fba1-4f90-a2ce-52b72ec08c36",
   "metadata": {},
   "outputs": [],
   "source": [
    "individual['children'] = individual['q0105y'] < 18"
   ]
  },
  {
   "cell_type": "code",
   "execution_count": 13,
   "id": "cee9fdcc-3f43-4f99-873d-34ad6b2414a0",
   "metadata": {},
   "outputs": [
    {
     "data": {
      "text/html": [
       "<div>\n",
       "<style scoped>\n",
       "    .dataframe tbody tr th:only-of-type {\n",
       "        vertical-align: middle;\n",
       "    }\n",
       "\n",
       "    .dataframe tbody tr th {\n",
       "        vertical-align: top;\n",
       "    }\n",
       "\n",
       "    .dataframe thead th {\n",
       "        text-align: right;\n",
       "    }\n",
       "</style>\n",
       "<table border=\"1\" class=\"dataframe\">\n",
       "  <thead>\n",
       "    <tr style=\"text-align: right;\">\n",
       "      <th></th>\n",
       "      <th>identif</th>\n",
       "      <th>q0105y</th>\n",
       "      <th>q0210b</th>\n",
       "      <th>q0212b</th>\n",
       "      <th>household_income</th>\n",
       "      <th>children</th>\n",
       "    </tr>\n",
       "  </thead>\n",
       "  <tbody>\n",
       "    <tr>\n",
       "      <th>0</th>\n",
       "      <td>1</td>\n",
       "      <td>47</td>\n",
       "      <td>8400000.0</td>\n",
       "      <td>0.0</td>\n",
       "      <td>8400000.0</td>\n",
       "      <td>False</td>\n",
       "    </tr>\n",
       "    <tr>\n",
       "      <th>1</th>\n",
       "      <td>1</td>\n",
       "      <td>47</td>\n",
       "      <td>3600000.0</td>\n",
       "      <td>0.0</td>\n",
       "      <td>3600000.0</td>\n",
       "      <td>False</td>\n",
       "    </tr>\n",
       "    <tr>\n",
       "      <th>2</th>\n",
       "      <td>1</td>\n",
       "      <td>27</td>\n",
       "      <td>0.0</td>\n",
       "      <td>0.0</td>\n",
       "      <td>0.0</td>\n",
       "      <td>False</td>\n",
       "    </tr>\n",
       "    <tr>\n",
       "      <th>3</th>\n",
       "      <td>1</td>\n",
       "      <td>9</td>\n",
       "      <td>0.0</td>\n",
       "      <td>0.0</td>\n",
       "      <td>0.0</td>\n",
       "      <td>True</td>\n",
       "    </tr>\n",
       "    <tr>\n",
       "      <th>4</th>\n",
       "      <td>2</td>\n",
       "      <td>40</td>\n",
       "      <td>2500000.0</td>\n",
       "      <td>0.0</td>\n",
       "      <td>2500000.0</td>\n",
       "      <td>False</td>\n",
       "    </tr>\n",
       "  </tbody>\n",
       "</table>\n",
       "</div>"
      ],
      "text/plain": [
       "   identif  q0105y     q0210b  q0212b  household_income  children\n",
       "0        1      47  8400000.0     0.0         8400000.0     False\n",
       "1        1      47  3600000.0     0.0         3600000.0     False\n",
       "2        1      27        0.0     0.0               0.0     False\n",
       "3        1       9        0.0     0.0               0.0      True\n",
       "4        2      40  2500000.0     0.0         2500000.0     False"
      ]
     },
     "execution_count": 13,
     "metadata": {},
     "output_type": "execute_result"
    }
   ],
   "source": [
    "individual.head()"
   ]
  },
  {
   "cell_type": "code",
   "execution_count": 14,
   "id": "bcdb2c36-7fa8-47c5-a6ed-2a1865eb763c",
   "metadata": {},
   "outputs": [],
   "source": [
    "household = individual.groupby(by='identif').sum()"
   ]
  },
  {
   "cell_type": "code",
   "execution_count": 15,
   "id": "41042c55-21fd-41d8-8c63-0ba09e29697b",
   "metadata": {},
   "outputs": [
    {
     "data": {
      "text/plain": [
       "identif\n",
       "1        32.500000\n",
       "2        35.750000\n",
       "3        22.000000\n",
       "4        48.666667\n",
       "5        71.000000\n",
       "           ...    \n",
       "11193    36.250000\n",
       "11194    34.500000\n",
       "11195    51.333333\n",
       "11196    58.000000\n",
       "11197    19.400000\n",
       "Name: q0105y, Length: 11197, dtype: float64"
      ]
     },
     "execution_count": 15,
     "metadata": {},
     "output_type": "execute_result"
    }
   ],
   "source": [
    "individual.groupby(by='identif').mean()['q0105y']"
   ]
  },
  {
   "cell_type": "code",
   "execution_count": 16,
   "id": "75e79c5b-a63d-4d38-a711-1f2525e87fd2",
   "metadata": {},
   "outputs": [],
   "source": [
    "household = household.drop(columns=['q0105y','q0210b','q0212b'])"
   ]
  },
  {
   "cell_type": "code",
   "execution_count": 17,
   "id": "be6d200c-7547-4b35-9c9f-b4f9a0e69872",
   "metadata": {},
   "outputs": [
    {
     "data": {
      "text/plain": [
       "identif\n",
       "1        32.500000\n",
       "2        35.750000\n",
       "3        22.000000\n",
       "4        48.666667\n",
       "5        71.000000\n",
       "           ...    \n",
       "11193    36.250000\n",
       "11194    34.500000\n",
       "11195    51.333333\n",
       "11196    58.000000\n",
       "11197    19.400000\n",
       "Name: q0105y, Length: 11197, dtype: float64"
      ]
     },
     "execution_count": 17,
     "metadata": {},
     "output_type": "execute_result"
    }
   ],
   "source": [
    "individual.groupby(by='identif').mean()['q0105y']"
   ]
  },
  {
   "cell_type": "code",
   "execution_count": 18,
   "id": "980e2f91-6d59-47eb-89e2-d2068229659e",
   "metadata": {},
   "outputs": [],
   "source": [
    "individual['adult'] = individual[individual['q0105y'] >= 18]['q0105y']"
   ]
  },
  {
   "cell_type": "code",
   "execution_count": 19,
   "id": "ef3d5681-eb8e-4ba2-bcbe-0c6a58a057b2",
   "metadata": {},
   "outputs": [],
   "source": [
    "household = household.merge(individual.groupby(by='identif').mean().reset_index()[['identif','adult']], on='identif')"
   ]
  },
  {
   "cell_type": "code",
   "execution_count": 20,
   "id": "996f8b37-370d-40ab-9455-d904846d7ac8",
   "metadata": {},
   "outputs": [],
   "source": [
    "household = household.rename(columns={'q0105y':'adult_avg_age'})"
   ]
  },
  {
   "cell_type": "code",
   "execution_count": 21,
   "id": "470f160a-b3b6-47dc-9917-b03f92b0b678",
   "metadata": {},
   "outputs": [
    {
     "data": {
      "text/html": [
       "<div>\n",
       "<style scoped>\n",
       "    .dataframe tbody tr th:only-of-type {\n",
       "        vertical-align: middle;\n",
       "    }\n",
       "\n",
       "    .dataframe tbody tr th {\n",
       "        vertical-align: top;\n",
       "    }\n",
       "\n",
       "    .dataframe thead th {\n",
       "        text-align: right;\n",
       "    }\n",
       "</style>\n",
       "<table border=\"1\" class=\"dataframe\">\n",
       "  <thead>\n",
       "    <tr style=\"text-align: right;\">\n",
       "      <th></th>\n",
       "      <th>identif</th>\n",
       "      <th>household_income</th>\n",
       "      <th>children</th>\n",
       "      <th>adult</th>\n",
       "    </tr>\n",
       "  </thead>\n",
       "  <tbody>\n",
       "    <tr>\n",
       "      <th>0</th>\n",
       "      <td>1</td>\n",
       "      <td>12000000.0</td>\n",
       "      <td>1</td>\n",
       "      <td>40.333333</td>\n",
       "    </tr>\n",
       "    <tr>\n",
       "      <th>1</th>\n",
       "      <td>2</td>\n",
       "      <td>2500000.0</td>\n",
       "      <td>2</td>\n",
       "      <td>59.000000</td>\n",
       "    </tr>\n",
       "    <tr>\n",
       "      <th>2</th>\n",
       "      <td>3</td>\n",
       "      <td>3600000.0</td>\n",
       "      <td>5</td>\n",
       "      <td>40.666667</td>\n",
       "    </tr>\n",
       "    <tr>\n",
       "      <th>3</th>\n",
       "      <td>4</td>\n",
       "      <td>1500000.0</td>\n",
       "      <td>0</td>\n",
       "      <td>48.666667</td>\n",
       "    </tr>\n",
       "    <tr>\n",
       "      <th>4</th>\n",
       "      <td>5</td>\n",
       "      <td>0.0</td>\n",
       "      <td>0</td>\n",
       "      <td>71.000000</td>\n",
       "    </tr>\n",
       "  </tbody>\n",
       "</table>\n",
       "</div>"
      ],
      "text/plain": [
       "   identif  household_income  children      adult\n",
       "0        1        12000000.0         1  40.333333\n",
       "1        2         2500000.0         2  59.000000\n",
       "2        3         3600000.0         5  40.666667\n",
       "3        4         1500000.0         0  48.666667\n",
       "4        5               0.0         0  71.000000"
      ]
     },
     "execution_count": 21,
     "metadata": {},
     "output_type": "execute_result"
    }
   ],
   "source": [
    "household.head()"
   ]
  },
  {
   "cell_type": "code",
   "execution_count": 22,
   "id": "a6fc4571-d55e-4ef5-a21c-d0cda6e6eba3",
   "metadata": {},
   "outputs": [
    {
     "data": {
      "text/html": [
       "<div>\n",
       "<style scoped>\n",
       "    .dataframe tbody tr th:only-of-type {\n",
       "        vertical-align: middle;\n",
       "    }\n",
       "\n",
       "    .dataframe tbody tr th {\n",
       "        vertical-align: top;\n",
       "    }\n",
       "\n",
       "    .dataframe thead th {\n",
       "        text-align: right;\n",
       "    }\n",
       "</style>\n",
       "<table border=\"1\" class=\"dataframe\">\n",
       "  <thead>\n",
       "    <tr style=\"text-align: right;\">\n",
       "      <th></th>\n",
       "      <th>identif</th>\n",
       "      <th>newaimag</th>\n",
       "      <th>urban</th>\n",
       "    </tr>\n",
       "  </thead>\n",
       "  <tbody>\n",
       "    <tr>\n",
       "      <th>0</th>\n",
       "      <td>1</td>\n",
       "      <td>Dornod</td>\n",
       "      <td>Urban</td>\n",
       "    </tr>\n",
       "    <tr>\n",
       "      <th>1</th>\n",
       "      <td>2</td>\n",
       "      <td>Dornod</td>\n",
       "      <td>Urban</td>\n",
       "    </tr>\n",
       "    <tr>\n",
       "      <th>2</th>\n",
       "      <td>3</td>\n",
       "      <td>Dornod</td>\n",
       "      <td>Urban</td>\n",
       "    </tr>\n",
       "    <tr>\n",
       "      <th>3</th>\n",
       "      <td>4</td>\n",
       "      <td>Dornod</td>\n",
       "      <td>Urban</td>\n",
       "    </tr>\n",
       "    <tr>\n",
       "      <th>4</th>\n",
       "      <td>5</td>\n",
       "      <td>Dornod</td>\n",
       "      <td>Urban</td>\n",
       "    </tr>\n",
       "  </tbody>\n",
       "</table>\n",
       "</div>"
      ],
      "text/plain": [
       "   identif newaimag  urban\n",
       "0        1   Dornod  Urban\n",
       "1        2   Dornod  Urban\n",
       "2        3   Dornod  Urban\n",
       "3        4   Dornod  Urban\n",
       "4        5   Dornod  Urban"
      ]
     },
     "execution_count": 22,
     "metadata": {},
     "output_type": "execute_result"
    }
   ],
   "source": [
    "basicvars.head()"
   ]
  },
  {
   "cell_type": "code",
   "execution_count": 23,
   "id": "7550ef03-109a-4950-a384-7a7c7585634f",
   "metadata": {},
   "outputs": [],
   "source": [
    "household = household.merge(basicvars, on='identif', how='left')"
   ]
  },
  {
   "cell_type": "code",
   "execution_count": 24,
   "id": "9ca62809-775b-4781-9485-044f9473f66a",
   "metadata": {},
   "outputs": [
    {
     "data": {
      "text/html": [
       "<div>\n",
       "<style scoped>\n",
       "    .dataframe tbody tr th:only-of-type {\n",
       "        vertical-align: middle;\n",
       "    }\n",
       "\n",
       "    .dataframe tbody tr th {\n",
       "        vertical-align: top;\n",
       "    }\n",
       "\n",
       "    .dataframe thead th {\n",
       "        text-align: right;\n",
       "    }\n",
       "</style>\n",
       "<table border=\"1\" class=\"dataframe\">\n",
       "  <thead>\n",
       "    <tr style=\"text-align: right;\">\n",
       "      <th></th>\n",
       "      <th>identif</th>\n",
       "      <th>household_income</th>\n",
       "      <th>children</th>\n",
       "      <th>adult</th>\n",
       "      <th>newaimag</th>\n",
       "      <th>urban</th>\n",
       "    </tr>\n",
       "  </thead>\n",
       "  <tbody>\n",
       "    <tr>\n",
       "      <th>0</th>\n",
       "      <td>1</td>\n",
       "      <td>12000000.0</td>\n",
       "      <td>1</td>\n",
       "      <td>40.333333</td>\n",
       "      <td>Dornod</td>\n",
       "      <td>Urban</td>\n",
       "    </tr>\n",
       "    <tr>\n",
       "      <th>1</th>\n",
       "      <td>2</td>\n",
       "      <td>2500000.0</td>\n",
       "      <td>2</td>\n",
       "      <td>59.000000</td>\n",
       "      <td>Dornod</td>\n",
       "      <td>Urban</td>\n",
       "    </tr>\n",
       "    <tr>\n",
       "      <th>2</th>\n",
       "      <td>3</td>\n",
       "      <td>3600000.0</td>\n",
       "      <td>5</td>\n",
       "      <td>40.666667</td>\n",
       "      <td>Dornod</td>\n",
       "      <td>Urban</td>\n",
       "    </tr>\n",
       "    <tr>\n",
       "      <th>3</th>\n",
       "      <td>4</td>\n",
       "      <td>1500000.0</td>\n",
       "      <td>0</td>\n",
       "      <td>48.666667</td>\n",
       "      <td>Dornod</td>\n",
       "      <td>Urban</td>\n",
       "    </tr>\n",
       "    <tr>\n",
       "      <th>4</th>\n",
       "      <td>5</td>\n",
       "      <td>0.0</td>\n",
       "      <td>0</td>\n",
       "      <td>71.000000</td>\n",
       "      <td>Dornod</td>\n",
       "      <td>Urban</td>\n",
       "    </tr>\n",
       "  </tbody>\n",
       "</table>\n",
       "</div>"
      ],
      "text/plain": [
       "   identif  household_income  children      adult newaimag  urban\n",
       "0        1        12000000.0         1  40.333333   Dornod  Urban\n",
       "1        2         2500000.0         2  59.000000   Dornod  Urban\n",
       "2        3         3600000.0         5  40.666667   Dornod  Urban\n",
       "3        4         1500000.0         0  48.666667   Dornod  Urban\n",
       "4        5               0.0         0  71.000000   Dornod  Urban"
      ]
     },
     "execution_count": 24,
     "metadata": {},
     "output_type": "execute_result"
    }
   ],
   "source": [
    "household.head()"
   ]
  },
  {
   "cell_type": "markdown",
   "id": "3dedd2a9-d110-460d-8b33-dfdc4bf577a9",
   "metadata": {},
   "source": [
    "And that's it! Our data is ready. Let's make some visualizations."
   ]
  },
  {
   "cell_type": "markdown",
   "id": "487158e1-b578-4c29-95f1-6c911fd625cd",
   "metadata": {},
   "source": [
    "## Visualizations"
   ]
  },
  {
   "cell_type": "code",
   "execution_count": 25,
   "id": "bb11413a-1666-468b-beaa-c4662bee1728",
   "metadata": {},
   "outputs": [
    {
     "data": {
      "text/plain": [
       "identif                int64\n",
       "household_income     float64\n",
       "children               int64\n",
       "adult                float64\n",
       "newaimag            category\n",
       "urban               category\n",
       "dtype: object"
      ]
     },
     "execution_count": 25,
     "metadata": {},
     "output_type": "execute_result"
    }
   ],
   "source": [
    "household.dtypes"
   ]
  },
  {
   "cell_type": "code",
   "execution_count": 26,
   "id": "8bbb0f16-326b-4613-8a0f-0366e61aa9e6",
   "metadata": {},
   "outputs": [
    {
     "data": {
      "text/plain": [
       "9"
      ]
     },
     "execution_count": 26,
     "metadata": {},
     "output_type": "execute_result"
    }
   ],
   "source": [
    "household['children'].max()"
   ]
  },
  {
   "cell_type": "code",
   "execution_count": 27,
   "id": "335004dd-cb9d-4267-bfba-0596de2860d5",
   "metadata": {},
   "outputs": [],
   "source": [
    "income_children = []\n",
    "for number in np.arange(0,10):\n",
    "    income_children.append((number, \n",
    "                            household[household['children'] == number]['household_income'].mean() / 1_000_000))"
   ]
  },
  {
   "cell_type": "code",
   "execution_count": 28,
   "id": "aab34dfe-df2f-43c8-b3de-e7a2cd5ed93d",
   "metadata": {},
   "outputs": [
    {
     "data": {
      "text/plain": [
       "[(0, 4.067218569292123),\n",
       " (1, 7.459911961432507),\n",
       " (2, 8.419987020408163),\n",
       " (3, 7.9385875979522185),\n",
       " (4, 6.659878674576271),\n",
       " (5, 5.074995327102804),\n",
       " (6, 6.538347826086956),\n",
       " (7, 8.485714285714286),\n",
       " (8, 4.9),\n",
       " (9, 3.5)]"
      ]
     },
     "execution_count": 28,
     "metadata": {},
     "output_type": "execute_result"
    }
   ],
   "source": [
    "income_children"
   ]
  },
  {
   "cell_type": "markdown",
   "id": "2d5ad8f1-aeb8-4e3b-a802-f1b7472726bc",
   "metadata": {},
   "source": [
    "These numbers match with our hypothesis, that higher numbers of children correlate to lower incomes. The exception is at 8 children, where there is a spike at 14.95 million. This is probably because of a low number of samples in with that number of children."
   ]
  },
  {
   "cell_type": "code",
   "execution_count": 29,
   "id": "fde0201a-c5b8-47c9-8fd4-3c1627bf432c",
   "metadata": {},
   "outputs": [],
   "source": [
    "records = []\n",
    "for number in np.arange(0,10):\n",
    "    records.append((number, household[household['children'] == number].shape[0]))"
   ]
  },
  {
   "cell_type": "code",
   "execution_count": 30,
   "id": "a9da529d-32f5-4f05-bdf8-58594db26099",
   "metadata": {},
   "outputs": [
    {
     "data": {
      "text/plain": [
       "[(0, 4012),\n",
       " (1, 2541),\n",
       " (2, 2450),\n",
       " (3, 1465),\n",
       " (4, 590),\n",
       " (5, 107),\n",
       " (6, 23),\n",
       " (7, 7),\n",
       " (8, 1),\n",
       " (9, 1)]"
      ]
     },
     "execution_count": 30,
     "metadata": {},
     "output_type": "execute_result"
    }
   ],
   "source": [
    "records"
   ]
  },
  {
   "cell_type": "markdown",
   "id": "257b3bca-6e92-4155-aa3c-8a37b69c2102",
   "metadata": {},
   "source": [
    "With this in mind we can safely remove anything above 5 children."
   ]
  },
  {
   "cell_type": "code",
   "execution_count": 31,
   "id": "1148b515-fc5f-4eae-ad62-35678d1acf25",
   "metadata": {},
   "outputs": [],
   "source": [
    "household = household[household['children'] <= 5].reset_index(drop=True)"
   ]
  },
  {
   "cell_type": "markdown",
   "id": "fb824145-2eb7-4f9a-a51b-f5358a8e89a2",
   "metadata": {},
   "source": [
    "For extra info we also want to see the average age of households by number of children."
   ]
  },
  {
   "cell_type": "code",
   "execution_count": 32,
   "id": "a41bcb3e-c6f6-4018-822c-15f69a0bcebf",
   "metadata": {},
   "outputs": [],
   "source": [
    "avg_age = []\n",
    "for number in np.arange(0,6):\n",
    "    avg_age.append((number, household[household['children'] == number]['adult'].mean()))"
   ]
  },
  {
   "cell_type": "code",
   "execution_count": 33,
   "id": "1c4f7167-d488-4d4e-8cbc-52eefe7b4af8",
   "metadata": {},
   "outputs": [
    {
     "data": {
      "text/plain": [
       "[(0, 50.911019322983435),\n",
       " (1, 39.04119563179602),\n",
       " (2, 36.06981924198251),\n",
       " (3, 36.175702576112414),\n",
       " (4, 36.92188660209847),\n",
       " (5, 36.82745883400089)]"
      ]
     },
     "execution_count": 33,
     "metadata": {},
     "output_type": "execute_result"
    }
   ],
   "source": [
    "avg_age"
   ]
  },
  {
   "cell_type": "markdown",
   "id": "9422a8d1-011a-4e83-b7e8-4ec121ddbb57",
   "metadata": {},
   "source": [
    "We also want to see if there are significant differences between urban/rural. If the distributions are inconsistent we should look into it more."
   ]
  },
  {
   "cell_type": "code",
   "execution_count": 34,
   "id": "8dd6676d-b400-4d07-9826-eb50ef91583a",
   "metadata": {},
   "outputs": [
    {
     "data": {
      "text/html": [
       "<div>\n",
       "<style scoped>\n",
       "    .dataframe tbody tr th:only-of-type {\n",
       "        vertical-align: middle;\n",
       "    }\n",
       "\n",
       "    .dataframe tbody tr th {\n",
       "        vertical-align: top;\n",
       "    }\n",
       "\n",
       "    .dataframe thead th {\n",
       "        text-align: right;\n",
       "    }\n",
       "</style>\n",
       "<table border=\"1\" class=\"dataframe\">\n",
       "  <thead>\n",
       "    <tr style=\"text-align: right;\">\n",
       "      <th></th>\n",
       "      <th>identif</th>\n",
       "      <th>household_income</th>\n",
       "      <th>children</th>\n",
       "      <th>adult</th>\n",
       "      <th>newaimag</th>\n",
       "      <th>urban</th>\n",
       "    </tr>\n",
       "  </thead>\n",
       "  <tbody>\n",
       "    <tr>\n",
       "      <th>0</th>\n",
       "      <td>1</td>\n",
       "      <td>12000000.0</td>\n",
       "      <td>1</td>\n",
       "      <td>40.333333</td>\n",
       "      <td>Dornod</td>\n",
       "      <td>Urban</td>\n",
       "    </tr>\n",
       "    <tr>\n",
       "      <th>1</th>\n",
       "      <td>2</td>\n",
       "      <td>2500000.0</td>\n",
       "      <td>2</td>\n",
       "      <td>59.000000</td>\n",
       "      <td>Dornod</td>\n",
       "      <td>Urban</td>\n",
       "    </tr>\n",
       "    <tr>\n",
       "      <th>2</th>\n",
       "      <td>3</td>\n",
       "      <td>3600000.0</td>\n",
       "      <td>5</td>\n",
       "      <td>40.666667</td>\n",
       "      <td>Dornod</td>\n",
       "      <td>Urban</td>\n",
       "    </tr>\n",
       "    <tr>\n",
       "      <th>3</th>\n",
       "      <td>4</td>\n",
       "      <td>1500000.0</td>\n",
       "      <td>0</td>\n",
       "      <td>48.666667</td>\n",
       "      <td>Dornod</td>\n",
       "      <td>Urban</td>\n",
       "    </tr>\n",
       "    <tr>\n",
       "      <th>4</th>\n",
       "      <td>5</td>\n",
       "      <td>0.0</td>\n",
       "      <td>0</td>\n",
       "      <td>71.000000</td>\n",
       "      <td>Dornod</td>\n",
       "      <td>Urban</td>\n",
       "    </tr>\n",
       "  </tbody>\n",
       "</table>\n",
       "</div>"
      ],
      "text/plain": [
       "   identif  household_income  children      adult newaimag  urban\n",
       "0        1        12000000.0         1  40.333333   Dornod  Urban\n",
       "1        2         2500000.0         2  59.000000   Dornod  Urban\n",
       "2        3         3600000.0         5  40.666667   Dornod  Urban\n",
       "3        4         1500000.0         0  48.666667   Dornod  Urban\n",
       "4        5               0.0         0  71.000000   Dornod  Urban"
      ]
     },
     "execution_count": 34,
     "metadata": {},
     "output_type": "execute_result"
    }
   ],
   "source": [
    "household.head()"
   ]
  },
  {
   "cell_type": "code",
   "execution_count": 35,
   "id": "5514f7ec-8934-49bb-8c7e-bcfcd46f9807",
   "metadata": {},
   "outputs": [],
   "source": [
    "income_children_urban = []\n",
    "for number in np.arange(0,6):\n",
    "    income_children_urban.append((number, \n",
    "                                  household[(household['children'] == number) & (household['urban'] == 'Urban')]['household_income'].mean() / 1_000_000))"
   ]
  },
  {
   "cell_type": "code",
   "execution_count": 36,
   "id": "b15143ef-a430-41ba-b2d7-a2b805b4013d",
   "metadata": {},
   "outputs": [
    {
     "data": {
      "text/plain": [
       "[(0, 5.89789425645933),\n",
       " (1, 9.952720346361186),\n",
       " (2, 11.00448874471086),\n",
       " (3, 11.26899737409201),\n",
       " (4, 9.560756857142856),\n",
       " (5, 8.18462962962963)]"
      ]
     },
     "execution_count": 36,
     "metadata": {},
     "output_type": "execute_result"
    }
   ],
   "source": [
    "income_children_urban"
   ]
  },
  {
   "cell_type": "code",
   "execution_count": 37,
   "id": "a8b01a43-5db1-4da8-a5d1-e79dc5ef5a1a",
   "metadata": {},
   "outputs": [],
   "source": [
    "income_children_rural = []\n",
    "for number in np.arange(0,6):\n",
    "    income_children_rural.append((number, \n",
    "                                  household[(household['children'] == number) & (household['urban'] == 'Rural')]['household_income'].mean() / 1_000_000))"
   ]
  },
  {
   "cell_type": "code",
   "execution_count": 38,
   "id": "6185f2da-876e-4f77-8279-eb5214efe510",
   "metadata": {},
   "outputs": [
    {
     "data": {
      "text/plain": [
       "[(0, 2.076525444328824),\n",
       " (1, 3.9600750236518447),\n",
       " (2, 4.868801511627907),\n",
       " (3, 3.633550860719875),\n",
       " (4, 3.3370545745454545),\n",
       " (5, 1.906688679245283)]"
      ]
     },
     "execution_count": 38,
     "metadata": {},
     "output_type": "execute_result"
    }
   ],
   "source": [
    "income_children_rural"
   ]
  },
  {
   "cell_type": "code",
   "execution_count": 39,
   "id": "be37b537-f0a4-429f-80a6-c413eba0a53c",
   "metadata": {},
   "outputs": [],
   "source": [
    "urban_rural = []\n",
    "for number in np.arange(0,6):\n",
    "    avg_age.append((number, household[household['children'] == number]['adult'].mean()))"
   ]
  },
  {
   "cell_type": "markdown",
   "id": "e862e541-d369-401d-bae5-fa3b37174d6f",
   "metadata": {
    "cell_id": "00049-c7a56538-763d-4ba0-97f6-d51f511fc8ef",
    "deepnote_cell_type": "markdown"
   },
   "source": [
    "This function remakes our currency values to have the K and M suffix (K for thousands and M for millions). [Adapted from Jie Jenn](https://www.youtube.com/watch?v=l-j9Mmi7VPk)."
   ]
  },
  {
   "cell_type": "code",
   "execution_count": 40,
   "id": "f973bcee-d036-4f34-b902-fcfe14272cb4",
   "metadata": {
    "cell_id": "00050-ef3c4c40-abbd-4c05-b910-a39366a7151c",
    "deepnote_cell_type": "code",
    "deepnote_to_be_reexecuted": false,
    "execution_millis": 0,
    "execution_start": 1639648049202,
    "source_hash": "7411ff6d"
   },
   "outputs": [],
   "source": [
    "def format_number(data_value, indx):\n",
    "    if data_value >= 1_000:\n",
    "        formatter = '{:1.1f}M'.format(data_value*0.000001)\n",
    "    else:\n",
    "        formatter = '{:1.0f}K'.format(data_value)\n",
    "    return formatter"
   ]
  },
  {
   "cell_type": "code",
   "execution_count": 41,
   "id": "a299c71e-d461-4d65-bdd5-e0a409227659",
   "metadata": {},
   "outputs": [
    {
     "data": {
      "image/png": "[encoded data removed]",
      "text/plain": [
       "<Figure size 1200x800 with 1 Axes>"
      ]
     },
     "metadata": {},
     "output_type": "display_data"
    }
   ],
   "source": [
    "fig, ax = plt.subplots()\n",
    "\n",
    "# Prep Data\n",
    "income_children = []\n",
    "for number in np.arange(0,6):\n",
    "    income_children.append(household[household['children'] == number]['household_income'].mean())\n",
    "\n",
    "ax.bar(np.arange(0,6), income_children, width=.75, color='tab:blue')\n",
    "\n",
    "ax.set_ylim(0, 9_100_000)\n",
    "\n",
    "ax.set_xlabel('Number of Children in Household')\n",
    "\n",
    "# Add grid\n",
    "ax.grid(axis='y', alpha=.7)\n",
    "\n",
    "# Relabel y-axis to give pretty numbers\n",
    "ax.yaxis.set_major_formatter(format_number)\n",
    "\n",
    "# Set title and subtitle\n",
    "ax.text(x=0.04, y=.94, s=\"Diminishing returns\", transform=fig.transFigure, ha='left', fontsize=26, weight='bold', alpha=.8)\n",
    "ax.text(x=0.04, y=.90, s=\"Average annual household income by number of children\", transform=fig.transFigure, ha='left', fontsize=16, alpha=.8)\n",
    "\n",
    "# Set bottom banner\n",
    "ax.text(x = 0.04, y = -0.05, s = '©Mongolian Data Stories', transform=fig.transFigure, ha='left', fontsize = 14, alpha=.6)\n",
    "ax.text(x = .95, y = -0.05, s = 'Data Source: 2019 Household Socioeconomic Survey, 1212.mn', transform=fig.transFigure, ha='right', fontsize = 14, alpha=.6)\n",
    "plt.savefig('images/wages_children.png', dpi = 300, bbox_inches=\"tight\")"
   ]
  },
  {
   "cell_type": "code",
   "execution_count": 42,
   "id": "170aec6f-00a5-4399-a7af-084aa49610eb",
   "metadata": {},
   "outputs": [],
   "source": [
    "income_children = []\n",
    "for number in np.arange(0,6):\n",
    "    income_children.append((number, \n",
    "                            household[household['children'] == number]['household_income'].mean() / 1_000_000))"
   ]
  },
  {
   "cell_type": "code",
   "execution_count": 43,
   "id": "32d4e63e-baca-4d05-8803-57013224aabf",
   "metadata": {},
   "outputs": [
    {
     "data": {
      "text/plain": [
       "0.3972680344040731"
      ]
     },
     "execution_count": 43,
     "metadata": {},
     "output_type": "execute_result"
    }
   ],
   "source": [
    "(income_children[2][1] - income_children[5][1]) / income_children[2][1]"
   ]
  },
  {
   "cell_type": "markdown",
   "id": "712df8f6-4f9f-42e1-a1ac-6b3f8f7ab3fe",
   "metadata": {},
   "source": [
    "## Fertility"
   ]
  },
  {
   "cell_type": "code",
   "execution_count": 44,
   "id": "8a9def03-7ee7-44e7-af32-fd4a23c07c41",
   "metadata": {},
   "outputs": [],
   "source": [
    "fertility = pd.read_csv('data/API_SP.DYN.TFRT.IN_DS2_en_csv_v2_3471714.csv')"
   ]
  },
  {
   "cell_type": "code",
   "execution_count": 45,
   "id": "7a307090-16dd-4110-b2d3-b1b2b6b3d8aa",
   "metadata": {},
   "outputs": [],
   "source": [
    "fertility = fertility.drop(columns=['Country Code','Indicator Name','Indicator Code'])"
   ]
  },
  {
   "cell_type": "code",
   "execution_count": 46,
   "id": "5e7d6612-b7bc-45cc-b54d-72d36461ecd0",
   "metadata": {},
   "outputs": [
    {
     "data": {
      "text/html": [
       "<div>\n",
       "<style scoped>\n",
       "    .dataframe tbody tr th:only-of-type {\n",
       "        vertical-align: middle;\n",
       "    }\n",
       "\n",
       "    .dataframe tbody tr th {\n",
       "        vertical-align: top;\n",
       "    }\n",
       "\n",
       "    .dataframe thead th {\n",
       "        text-align: right;\n",
       "    }\n",
       "</style>\n",
       "<table border=\"1\" class=\"dataframe\">\n",
       "  <thead>\n",
       "    <tr style=\"text-align: right;\">\n",
       "      <th></th>\n",
       "      <th>Country Name</th>\n",
       "      <th>1960</th>\n",
       "      <th>1961</th>\n",
       "      <th>1962</th>\n",
       "      <th>1963</th>\n",
       "      <th>1964</th>\n",
       "      <th>1965</th>\n",
       "      <th>1966</th>\n",
       "      <th>1967</th>\n",
       "      <th>1968</th>\n",
       "      <th>...</th>\n",
       "      <th>2011</th>\n",
       "      <th>2012</th>\n",
       "      <th>2013</th>\n",
       "      <th>2014</th>\n",
       "      <th>2015</th>\n",
       "      <th>2016</th>\n",
       "      <th>2017</th>\n",
       "      <th>2018</th>\n",
       "      <th>2019</th>\n",
       "      <th>2020</th>\n",
       "    </tr>\n",
       "  </thead>\n",
       "  <tbody>\n",
       "    <tr>\n",
       "      <th>81</th>\n",
       "      <td>United Kingdom</td>\n",
       "      <td>2.69</td>\n",
       "      <td>2.78</td>\n",
       "      <td>2.86</td>\n",
       "      <td>2.88</td>\n",
       "      <td>2.93</td>\n",
       "      <td>2.86</td>\n",
       "      <td>2.78</td>\n",
       "      <td>2.68</td>\n",
       "      <td>2.6</td>\n",
       "      <td>...</td>\n",
       "      <td>1.91</td>\n",
       "      <td>1.92</td>\n",
       "      <td>1.83</td>\n",
       "      <td>1.81</td>\n",
       "      <td>1.8</td>\n",
       "      <td>1.79</td>\n",
       "      <td>1.74</td>\n",
       "      <td>1.68</td>\n",
       "      <td>1.65</td>\n",
       "      <td>NaN</td>\n",
       "    </tr>\n",
       "  </tbody>\n",
       "</table>\n",
       "<p>1 rows × 62 columns</p>\n",
       "</div>"
      ],
      "text/plain": [
       "      Country Name  1960  1961  1962  1963  1964  1965  1966  1967  1968  ...  \\\n",
       "81  United Kingdom  2.69  2.78  2.86  2.88  2.93  2.86  2.78  2.68   2.6  ...   \n",
       "\n",
       "    2011  2012  2013  2014  2015  2016  2017  2018  2019  2020  \n",
       "81  1.91  1.92  1.83  1.81   1.8  1.79  1.74  1.68  1.65   NaN  \n",
       "\n",
       "[1 rows x 62 columns]"
      ]
     },
     "execution_count": 46,
     "metadata": {},
     "output_type": "execute_result"
    }
   ],
   "source": [
    "fertility[fertility['Country Name'] == 'United Kingdom']"
   ]
  },
  {
   "cell_type": "code",
   "execution_count": 47,
   "id": "982bfe1c-bfa3-4da7-a55c-db3d86a29f9b",
   "metadata": {},
   "outputs": [
    {
     "data": {
      "text/html": [
       "<div>\n",
       "<style scoped>\n",
       "    .dataframe tbody tr th:only-of-type {\n",
       "        vertical-align: middle;\n",
       "    }\n",
       "\n",
       "    .dataframe tbody tr th {\n",
       "        vertical-align: top;\n",
       "    }\n",
       "\n",
       "    .dataframe thead th {\n",
       "        text-align: right;\n",
       "    }\n",
       "</style>\n",
       "<table border=\"1\" class=\"dataframe\">\n",
       "  <thead>\n",
       "    <tr style=\"text-align: right;\">\n",
       "      <th></th>\n",
       "      <th>Country Name</th>\n",
       "      <th>1960</th>\n",
       "      <th>1961</th>\n",
       "      <th>1962</th>\n",
       "      <th>1963</th>\n",
       "      <th>1964</th>\n",
       "      <th>1965</th>\n",
       "      <th>1966</th>\n",
       "      <th>1967</th>\n",
       "      <th>1968</th>\n",
       "      <th>...</th>\n",
       "      <th>2011</th>\n",
       "      <th>2012</th>\n",
       "      <th>2013</th>\n",
       "      <th>2014</th>\n",
       "      <th>2015</th>\n",
       "      <th>2016</th>\n",
       "      <th>2017</th>\n",
       "      <th>2018</th>\n",
       "      <th>2019</th>\n",
       "      <th>2020</th>\n",
       "    </tr>\n",
       "  </thead>\n",
       "  <tbody>\n",
       "    <tr>\n",
       "      <th>40</th>\n",
       "      <td>China</td>\n",
       "      <td>5.756</td>\n",
       "      <td>5.905</td>\n",
       "      <td>6.062</td>\n",
       "      <td>6.206</td>\n",
       "      <td>6.320</td>\n",
       "      <td>6.385</td>\n",
       "      <td>6.384</td>\n",
       "      <td>6.316</td>\n",
       "      <td>6.184</td>\n",
       "      <td>...</td>\n",
       "      <td>1.6320</td>\n",
       "      <td>1.6390</td>\n",
       "      <td>1.6470</td>\n",
       "      <td>1.6560</td>\n",
       "      <td>1.6650</td>\n",
       "      <td>1.6750</td>\n",
       "      <td>1.6830</td>\n",
       "      <td>1.6900</td>\n",
       "      <td>1.696</td>\n",
       "      <td>NaN</td>\n",
       "    </tr>\n",
       "    <tr>\n",
       "      <th>55</th>\n",
       "      <td>Germany</td>\n",
       "      <td>2.370</td>\n",
       "      <td>2.450</td>\n",
       "      <td>2.440</td>\n",
       "      <td>2.510</td>\n",
       "      <td>2.540</td>\n",
       "      <td>2.500</td>\n",
       "      <td>2.530</td>\n",
       "      <td>2.480</td>\n",
       "      <td>2.380</td>\n",
       "      <td>...</td>\n",
       "      <td>1.3900</td>\n",
       "      <td>1.4100</td>\n",
       "      <td>1.4200</td>\n",
       "      <td>1.4700</td>\n",
       "      <td>1.5000</td>\n",
       "      <td>1.6000</td>\n",
       "      <td>1.5700</td>\n",
       "      <td>1.5700</td>\n",
       "      <td>1.540</td>\n",
       "      <td>NaN</td>\n",
       "    </tr>\n",
       "    <tr>\n",
       "      <th>109</th>\n",
       "      <td>India</td>\n",
       "      <td>5.906</td>\n",
       "      <td>5.902</td>\n",
       "      <td>5.894</td>\n",
       "      <td>5.880</td>\n",
       "      <td>5.859</td>\n",
       "      <td>5.830</td>\n",
       "      <td>5.794</td>\n",
       "      <td>5.751</td>\n",
       "      <td>5.702</td>\n",
       "      <td>...</td>\n",
       "      <td>2.5060</td>\n",
       "      <td>2.4390</td>\n",
       "      <td>2.3810</td>\n",
       "      <td>2.3330</td>\n",
       "      <td>2.2950</td>\n",
       "      <td>2.2660</td>\n",
       "      <td>2.2430</td>\n",
       "      <td>2.2220</td>\n",
       "      <td>2.202</td>\n",
       "      <td>NaN</td>\n",
       "    </tr>\n",
       "    <tr>\n",
       "      <th>163</th>\n",
       "      <td>Mongolia</td>\n",
       "      <td>6.953</td>\n",
       "      <td>7.168</td>\n",
       "      <td>7.347</td>\n",
       "      <td>7.477</td>\n",
       "      <td>7.558</td>\n",
       "      <td>7.593</td>\n",
       "      <td>7.599</td>\n",
       "      <td>7.591</td>\n",
       "      <td>7.584</td>\n",
       "      <td>...</td>\n",
       "      <td>2.7220</td>\n",
       "      <td>2.7940</td>\n",
       "      <td>2.8520</td>\n",
       "      <td>2.8940</td>\n",
       "      <td>2.9180</td>\n",
       "      <td>2.9230</td>\n",
       "      <td>2.9140</td>\n",
       "      <td>2.8950</td>\n",
       "      <td>2.867</td>\n",
       "      <td>NaN</td>\n",
       "    </tr>\n",
       "    <tr>\n",
       "      <th>251</th>\n",
       "      <td>United States</td>\n",
       "      <td>3.654</td>\n",
       "      <td>3.620</td>\n",
       "      <td>3.461</td>\n",
       "      <td>3.319</td>\n",
       "      <td>3.190</td>\n",
       "      <td>2.913</td>\n",
       "      <td>2.721</td>\n",
       "      <td>2.558</td>\n",
       "      <td>2.464</td>\n",
       "      <td>...</td>\n",
       "      <td>1.8945</td>\n",
       "      <td>1.8805</td>\n",
       "      <td>1.8575</td>\n",
       "      <td>1.8625</td>\n",
       "      <td>1.8435</td>\n",
       "      <td>1.8205</td>\n",
       "      <td>1.7655</td>\n",
       "      <td>1.7295</td>\n",
       "      <td>1.705</td>\n",
       "      <td>NaN</td>\n",
       "    </tr>\n",
       "  </tbody>\n",
       "</table>\n",
       "<p>5 rows × 62 columns</p>\n",
       "</div>"
      ],
      "text/plain": [
       "      Country Name   1960   1961   1962   1963   1964   1965   1966   1967  \\\n",
       "40           China  5.756  5.905  6.062  6.206  6.320  6.385  6.384  6.316   \n",
       "55         Germany  2.370  2.450  2.440  2.510  2.540  2.500  2.530  2.480   \n",
       "109          India  5.906  5.902  5.894  5.880  5.859  5.830  5.794  5.751   \n",
       "163       Mongolia  6.953  7.168  7.347  7.477  7.558  7.593  7.599  7.591   \n",
       "251  United States  3.654  3.620  3.461  3.319  3.190  2.913  2.721  2.558   \n",
       "\n",
       "      1968  ...    2011    2012    2013    2014    2015    2016    2017  \\\n",
       "40   6.184  ...  1.6320  1.6390  1.6470  1.6560  1.6650  1.6750  1.6830   \n",
       "55   2.380  ...  1.3900  1.4100  1.4200  1.4700  1.5000  1.6000  1.5700   \n",
       "109  5.702  ...  2.5060  2.4390  2.3810  2.3330  2.2950  2.2660  2.2430   \n",
       "163  7.584  ...  2.7220  2.7940  2.8520  2.8940  2.9180  2.9230  2.9140   \n",
       "251  2.464  ...  1.8945  1.8805  1.8575  1.8625  1.8435  1.8205  1.7655   \n",
       "\n",
       "       2018   2019  2020  \n",
       "40   1.6900  1.696   NaN  \n",
       "55   1.5700  1.540   NaN  \n",
       "109  2.2220  2.202   NaN  \n",
       "163  2.8950  2.867   NaN  \n",
       "251  1.7295  1.705   NaN  \n",
       "\n",
       "[5 rows x 62 columns]"
      ]
     },
     "execution_count": 47,
     "metadata": {},
     "output_type": "execute_result"
    }
   ],
   "source": [
    "countries = ['Mongolia','United States','India','China','Germany']\n",
    "\n",
    "fertility = fertility[fertility['Country Name'].isin(countries)]\n",
    "fertility.head()"
   ]
  },
  {
   "cell_type": "code",
   "execution_count": 48,
   "id": "fb1ace71-a9b9-4689-9e82-f555ebe4a6c6",
   "metadata": {},
   "outputs": [],
   "source": [
    "fertility = fertility.melt(id_vars='Country Name', var_name='year', value_name='fertility').rename(columns={'Country Name':'country'}).dropna()"
   ]
  },
  {
   "cell_type": "code",
   "execution_count": 49,
   "id": "fbe3f687-5044-4e2e-b7cd-fc3dc5990d9a",
   "metadata": {},
   "outputs": [
    {
     "data": {
      "text/html": [
       "<div>\n",
       "<style scoped>\n",
       "    .dataframe tbody tr th:only-of-type {\n",
       "        vertical-align: middle;\n",
       "    }\n",
       "\n",
       "    .dataframe tbody tr th {\n",
       "        vertical-align: top;\n",
       "    }\n",
       "\n",
       "    .dataframe thead th {\n",
       "        text-align: right;\n",
       "    }\n",
       "</style>\n",
       "<table border=\"1\" class=\"dataframe\">\n",
       "  <thead>\n",
       "    <tr style=\"text-align: right;\">\n",
       "      <th></th>\n",
       "      <th>country</th>\n",
       "      <th>year</th>\n",
       "      <th>fertility</th>\n",
       "    </tr>\n",
       "  </thead>\n",
       "  <tbody>\n",
       "    <tr>\n",
       "      <th>295</th>\n",
       "      <td>China</td>\n",
       "      <td>2019</td>\n",
       "      <td>1.696</td>\n",
       "    </tr>\n",
       "    <tr>\n",
       "      <th>296</th>\n",
       "      <td>Germany</td>\n",
       "      <td>2019</td>\n",
       "      <td>1.540</td>\n",
       "    </tr>\n",
       "    <tr>\n",
       "      <th>297</th>\n",
       "      <td>India</td>\n",
       "      <td>2019</td>\n",
       "      <td>2.202</td>\n",
       "    </tr>\n",
       "    <tr>\n",
       "      <th>298</th>\n",
       "      <td>Mongolia</td>\n",
       "      <td>2019</td>\n",
       "      <td>2.867</td>\n",
       "    </tr>\n",
       "    <tr>\n",
       "      <th>299</th>\n",
       "      <td>United States</td>\n",
       "      <td>2019</td>\n",
       "      <td>1.705</td>\n",
       "    </tr>\n",
       "  </tbody>\n",
       "</table>\n",
       "</div>"
      ],
      "text/plain": [
       "           country  year  fertility\n",
       "295          China  2019      1.696\n",
       "296        Germany  2019      1.540\n",
       "297          India  2019      2.202\n",
       "298       Mongolia  2019      2.867\n",
       "299  United States  2019      1.705"
      ]
     },
     "execution_count": 49,
     "metadata": {},
     "output_type": "execute_result"
    }
   ],
   "source": [
    "fertility.tail()"
   ]
  },
  {
   "cell_type": "code",
   "execution_count": 50,
   "id": "905d8b97-8b4a-4eb1-a369-ba2e7b4b845d",
   "metadata": {},
   "outputs": [],
   "source": [
    "fertility['year'] = pd.to_datetime(fertility['year'])"
   ]
  },
  {
   "cell_type": "code",
   "execution_count": 51,
   "id": "12b3e2ce-3226-4281-9548-be97770bd0db",
   "metadata": {},
   "outputs": [],
   "source": [
    "from matplotlib.ticker import AutoMinorLocator"
   ]
  },
  {
   "cell_type": "code",
   "execution_count": 53,
   "id": "28307170-a848-4754-be8d-07509d0701bb",
   "metadata": {},
   "outputs": [
    {
     "name": "stderr",
     "output_type": "stream",
     "text": [
      "/var/folders/h6/t5s_1mjx40z0hhvtvsf11xf00000gn/T/ipykernel_88328/729470828.py:27: UserWarning: FixedFormatter should only be used together with FixedLocator\n",
      "  ax.set_yticklabels(np.arange(0,9,1),            # Set labels again\n"
     ]
    },
    {
     "data": {
      "image/png": "[encoded data removed]",
      "text/plain": [
       "<Figure size 1200x800 with 1 Axes>"
      ]
     },
     "metadata": {},
     "output_type": "display_data"
    }
   ],
   "source": [
    "fig, ax = plt.subplots()\n",
    "\n",
    "# Plot data\n",
    "for country in countries:\n",
    "    ax.plot(fertility[fertility['country'] == country]['year'], \n",
    "            fertility[fertility['country'] == country]['fertility'], alpha=.8)\n",
    "    \n",
    "ax.plot(fertility[fertility['country'] == 'Mongolia']['year'], \n",
    "        fertility[fertility['country'] == 'Mongolia']['fertility'], c='#008fd5')\n",
    "\n",
    "ax.set_xlim(datetime.date(1959, 3, 1), datetime.date(2021, 1, 1))\n",
    "ax.set_ylim(0,8.5)\n",
    "\n",
    "# Reformat x-axis tick labels\n",
    "ax.xaxis.set_tick_params(length=8, labelsize=11)        # Set tick label size\n",
    "ax.xaxis.set_tick_params(which='minor', length=4)\n",
    "minor_locator = AutoMinorLocator(10)\n",
    "ax.xaxis.set_minor_locator(minor_locator)\n",
    "\n",
    "# Add grid\n",
    "ax.grid(axis='y', alpha=.7)\n",
    "\n",
    "# Remove splines. Can be done one at a time or can slice with a list.\n",
    "ax.spines[['top','right','left']].set_visible(False)\n",
    "\n",
    "# Reformat y-axis tick labels\n",
    "ax.set_yticklabels(np.arange(0,9,1),            # Set labels again\n",
    "                   ha = 'right',                 # Set horizontal alignment to right\n",
    "                   verticalalignment='bottom')   # Set vertical alignment to make labels on top of gridline      \n",
    "\n",
    "ax.yaxis.set_tick_params(pad=-2,             # Pad tick labels so they don't go over y-axis\n",
    "                         labeltop=True,      # Put x-axis labels on top\n",
    "                         labelbottom=False,  # Set no x-axis labels on bottom\n",
    "                         bottom=False,       # Set no ticks on bottom\n",
    "                         labelsize=11)       # Set tick label size\n",
    "\n",
    "# Add annotations\n",
    "colors = ['#008fd5', '#fc4f30', '#e5ae38', '#6d904f', '#8b8b8b', '#810f7c']\n",
    "ax.text(x = .84, y=.37, s='Mongolia', transform=fig.transFigure, fontsize = 14, color=colors[0])\n",
    "ax.text(x = .27, y=.27, s='United States', transform=fig.transFigure, fontsize = 14, color=colors[1])\n",
    "ax.text(x = .63, y=.42, s='India', transform=fig.transFigure, fontsize = 14, color=colors[2])\n",
    "ax.text(x = .47, y=.33, s='China', transform=fig.transFigure, fontsize = 14, color=colors[3])\n",
    "ax.text(x = .75, y=.17, s='Germany', transform=fig.transFigure, fontsize = 14, color=colors[4])\n",
    "\n",
    "# Set title and subtitle\n",
    "ax.text(x=0.078, y=.92, s=\"Baby bump\", transform=fig.transFigure, ha='left', fontsize=26, weight='bold', alpha=.8)\n",
    "ax.text(x=0.079, y=.88, s=\"Number of births per woman, 1960-2019\", transform=fig.transFigure, ha='left', fontsize=16, alpha=.8)\n",
    "\n",
    "# Set bottom banner\n",
    "ax.text(x = 0.078, y = -0.02, s = '©Mongolian Data Stories', transform=fig.transFigure, ha='left', fontsize = 12, alpha=.6)\n",
    "ax.text(x = .95, y = -0.02, s = 'Data Source: World Bank', transform=fig.transFigure, ha='right', fontsize = 12, alpha=.6)\n",
    "plt.savefig('images/baby_bump.png', dpi = 300, bbox_inches=\"tight\")"
   ]
  },
  {
   "cell_type": "code",
   "execution_count": null,
   "id": "ac00e000-e671-4e89-918a-7ad263d8bb1d",
   "metadata": {},
   "outputs": [],
   "source": []
  }
 ],
 "metadata": {
  "kernelspec": {
   "display_name": "Python 3 (ipykernel)",
   "language": "python",
   "name": "python3"
  },
  "language_info": {
   "codemirror_mode": {
    "name": "ipython",
    "version": 3
   },
   "file_extension": ".py",
   "mimetype": "text/x-python",
   "name": "python",
   "nbconvert_exporter": "python",
   "pygments_lexer": "ipython3",
   "version": "3.8.12"
  }
 },
 "nbformat": 4,
 "nbformat_minor": 5
}
