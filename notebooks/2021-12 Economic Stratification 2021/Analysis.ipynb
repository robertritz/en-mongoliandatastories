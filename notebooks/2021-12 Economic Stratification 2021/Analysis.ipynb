{
 "cells": [
  {
   "cell_type": "markdown",
   "metadata": {
    "cell_id": "00001-91e9551e-f350-40be-9a6e-8dcda3c2b695",
    "deepnote_cell_type": "markdown",
    "tags": []
   },
   "source": [
    "# Mongolia's Economic Stratification"
   ]
  },
  {
   "cell_type": "markdown",
   "metadata": {
    "cell_id": "00001-20b00b00-2f65-47b4-9285-4d1dd57040f3",
    "deepnote_cell_type": "markdown",
    "tags": []
   },
   "source": [
    "This notebook will seek to understand how income stratification has changed over time. At the core of this idea is the question, have Mongolians gotten richer since 2010?\n",
    "\n",
    "Link to data sources used in this notebook: \n",
    "\n",
    "- Monetary Income Grouping - [1212.mn](http://www.1212.mn/tables.aspx?tbl_id=DT_NSO_1900_032V1&Location_select_all=1&LocationSingleSelect=&Revenue_select_all=1&RevenueSingleSelect=&YearY_select_all=1&YearYSingleSelect=&viewtype=table)\n",
    "    - Gives the percent of Mongolian households making within specific income buckets\n",
    "- Inflation Rate - [1212.mn](http://www.1212.mn/tables.aspx?tbl_id=DT_NSO_0600_013V1&RATIO_select_all=1&RATIOSingleSelect=&YearY_select_all=1&YearYSingleSelect=&viewtype=linechart)\n",
    "    - The annual average CPI inflation\n",
    "- Monthly Average Wages - [1212.mn](http://www.1212.mn/tables.aspx?tbl_id=DT_NSO_0400_021V1&SOUM_select_all=0&SOUMSingleSelect=_0&Gender_select_all=0&GenderSingleSelect=_1&YearQ_select_all=0&YearQSingleSelect=&YearY_select_all=1&YearYSingleSelect=&viewtype=linechart)\n",
    "    - Monthly average wages (not median!)\n",
    "\n"
   ]
  },
  {
   "cell_type": "code",
   "execution_count": 1,
   "metadata": {
    "cell_id": "00002-93ba7e30-3f8f-4863-86e1-316cafd0a1c0",
    "deepnote_cell_type": "code",
    "deepnote_to_be_reexecuted": false,
    "execution_millis": 2623,
    "execution_start": 1639648041733,
    "source_hash": "9f484c4c",
    "tags": []
   },
   "outputs": [],
   "source": [
    "import pandas as pd\n",
    "import matplotlib.pyplot as plt\n",
    "from textwrap import wrap"
   ]
  },
  {
   "cell_type": "code",
   "execution_count": 2,
   "metadata": {
    "cell_id": "00003-c0a68dc6-dc02-432f-85cd-c02276104311",
    "deepnote_cell_type": "code",
    "deepnote_to_be_reexecuted": false,
    "execution_millis": 6,
    "execution_start": 1639648044368,
    "source_hash": "eea94f96",
    "tags": []
   },
   "outputs": [],
   "source": [
    "plt.style.use('mds.mplstyle')"
   ]
  },
  {
   "cell_type": "markdown",
   "metadata": {
    "cell_id": "00002-fd57e0cd-91f7-4246-a343-70fee547d39e",
    "deepnote_cell_type": "markdown",
    "tags": []
   },
   "source": [
    "## Importing Data and Cleaning"
   ]
  },
  {
   "cell_type": "code",
   "execution_count": 3,
   "metadata": {
    "cell_id": "00004-d92ee6fc-0ed1-4ac9-8654-4318a8ae44d3",
    "deepnote_cell_type": "code",
    "deepnote_to_be_reexecuted": false,
    "execution_millis": 27,
    "execution_start": 1639648044375,
    "source_hash": "2fd0379a",
    "tags": []
   },
   "outputs": [],
   "source": [
    "income_groups = pd.read_csv('data/DT_NSO_1900_032V1_-_2021-12-15_-_www.1212.mn.csv')\n",
    "inflation = pd.read_csv('data/DT_NSO_0600_013V1_-_2021-12-15_-_www.1212.mn.csv')\n",
    "wages = pd.read_csv('data/DT_NSO_0400_021V1_-_2021-12-15_-_www.1212.mn.csv', thousands=',')"
   ]
  },
  {
   "cell_type": "code",
   "execution_count": 4,
   "metadata": {
    "cell_id": "00005-20ff9a45-14f3-4c49-ab10-9ebd5fca426c",
    "deepnote_cell_type": "code",
    "deepnote_to_be_reexecuted": false,
    "execution_millis": 124,
    "execution_start": 1639648044425,
    "source_hash": "dfabf56f",
    "tags": []
   },
   "outputs": [
    {
     "data": {
      "text/html": [
       "<div>\n",
       "<style scoped>\n",
       "    .dataframe tbody tr th:only-of-type {\n",
       "        vertical-align: middle;\n",
       "    }\n",
       "\n",
       "    .dataframe tbody tr th {\n",
       "        vertical-align: top;\n",
       "    }\n",
       "\n",
       "    .dataframe thead th {\n",
       "        text-align: right;\n",
       "    }\n",
       "</style>\n",
       "<table border=\"1\" class=\"dataframe\">\n",
       "  <thead>\n",
       "    <tr style=\"text-align: right;\">\n",
       "      <th></th>\n",
       "      <th>Location</th>\n",
       "      <th>Revenue</th>\n",
       "      <th>2011</th>\n",
       "      <th>2012</th>\n",
       "      <th>2013</th>\n",
       "      <th>2014</th>\n",
       "      <th>2015</th>\n",
       "      <th>2016</th>\n",
       "      <th>2017</th>\n",
       "      <th>2018</th>\n",
       "      <th>2019</th>\n",
       "      <th>2020</th>\n",
       "    </tr>\n",
       "  </thead>\n",
       "  <tbody>\n",
       "    <tr>\n",
       "      <th>0</th>\n",
       "      <td>National average</td>\n",
       "      <td>under 300 000</td>\n",
       "      <td>34.7</td>\n",
       "      <td>24.8</td>\n",
       "      <td>14.9</td>\n",
       "      <td>11.2</td>\n",
       "      <td>12.4</td>\n",
       "      <td>13.9</td>\n",
       "      <td>12.8</td>\n",
       "      <td>8.9</td>\n",
       "      <td>4.7</td>\n",
       "      <td>3.9</td>\n",
       "    </tr>\n",
       "    <tr>\n",
       "      <th>1</th>\n",
       "      <td>National average</td>\n",
       "      <td>300 001 - 500 000</td>\n",
       "      <td>24.7</td>\n",
       "      <td>20.8</td>\n",
       "      <td>17.6</td>\n",
       "      <td>16.8</td>\n",
       "      <td>16.6</td>\n",
       "      <td>18.1</td>\n",
       "      <td>16.5</td>\n",
       "      <td>14.2</td>\n",
       "      <td>12.5</td>\n",
       "      <td>10.5</td>\n",
       "    </tr>\n",
       "    <tr>\n",
       "      <th>2</th>\n",
       "      <td>National average</td>\n",
       "      <td>500 001 - 700 000</td>\n",
       "      <td>16.1</td>\n",
       "      <td>16.2</td>\n",
       "      <td>18.1</td>\n",
       "      <td>17.0</td>\n",
       "      <td>17.0</td>\n",
       "      <td>18.5</td>\n",
       "      <td>17.7</td>\n",
       "      <td>15.0</td>\n",
       "      <td>13.3</td>\n",
       "      <td>10.4</td>\n",
       "    </tr>\n",
       "    <tr>\n",
       "      <th>3</th>\n",
       "      <td>National average</td>\n",
       "      <td>700 001 - 900 000</td>\n",
       "      <td>9.6</td>\n",
       "      <td>12.2</td>\n",
       "      <td>14.3</td>\n",
       "      <td>14.3</td>\n",
       "      <td>14.0</td>\n",
       "      <td>14.3</td>\n",
       "      <td>14.3</td>\n",
       "      <td>13.7</td>\n",
       "      <td>13.8</td>\n",
       "      <td>11.8</td>\n",
       "    </tr>\n",
       "    <tr>\n",
       "      <th>4</th>\n",
       "      <td>National average</td>\n",
       "      <td>900 001 - 1 100 000</td>\n",
       "      <td>5.8</td>\n",
       "      <td>8.5</td>\n",
       "      <td>10.6</td>\n",
       "      <td>11.0</td>\n",
       "      <td>11.1</td>\n",
       "      <td>10.7</td>\n",
       "      <td>10.4</td>\n",
       "      <td>11.7</td>\n",
       "      <td>11.3</td>\n",
       "      <td>11.3</td>\n",
       "    </tr>\n",
       "  </tbody>\n",
       "</table>\n",
       "</div>"
      ],
      "text/plain": [
       "           Location              Revenue  2011  2012  2013  2014  2015  2016  \\\n",
       "0  National average        under 300 000  34.7  24.8  14.9  11.2  12.4  13.9   \n",
       "1  National average    300 001 - 500 000  24.7  20.8  17.6  16.8  16.6  18.1   \n",
       "2  National average    500 001 - 700 000  16.1  16.2  18.1  17.0  17.0  18.5   \n",
       "3  National average    700 001 - 900 000   9.6  12.2  14.3  14.3  14.0  14.3   \n",
       "4  National average  900 001 - 1 100 000   5.8   8.5  10.6  11.0  11.1  10.7   \n",
       "\n",
       "   2017  2018  2019  2020  \n",
       "0  12.8   8.9   4.7   3.9  \n",
       "1  16.5  14.2  12.5  10.5  \n",
       "2  17.7  15.0  13.3  10.4  \n",
       "3  14.3  13.7  13.8  11.8  \n",
       "4  10.4  11.7  11.3  11.3  "
      ]
     },
     "execution_count": 4,
     "metadata": {},
     "output_type": "execute_result"
    }
   ],
   "source": [
    "income_groups.head()"
   ]
  },
  {
   "cell_type": "code",
   "execution_count": 5,
   "metadata": {
    "cell_id": "00005-266751d3-cbba-4cf9-868a-b62982ba97b0",
    "deepnote_cell_type": "code",
    "deepnote_to_be_reexecuted": false,
    "execution_millis": 152,
    "execution_start": 1639648044705,
    "source_hash": "6f9bbf2e",
    "tags": []
   },
   "outputs": [
    {
     "data": {
      "text/html": [
       "<div>\n",
       "<style scoped>\n",
       "    .dataframe tbody tr th:only-of-type {\n",
       "        vertical-align: middle;\n",
       "    }\n",
       "\n",
       "    .dataframe tbody tr th {\n",
       "        vertical-align: top;\n",
       "    }\n",
       "\n",
       "    .dataframe thead th {\n",
       "        text-align: right;\n",
       "    }\n",
       "</style>\n",
       "<table border=\"1\" class=\"dataframe\">\n",
       "  <thead>\n",
       "    <tr style=\"text-align: right;\">\n",
       "      <th></th>\n",
       "      <th>INDICATOR</th>\n",
       "      <th>1991</th>\n",
       "      <th>1992</th>\n",
       "      <th>1993</th>\n",
       "      <th>1994</th>\n",
       "      <th>1995</th>\n",
       "      <th>1996</th>\n",
       "      <th>1997</th>\n",
       "      <th>1998</th>\n",
       "      <th>1999</th>\n",
       "      <th>...</th>\n",
       "      <th>2011</th>\n",
       "      <th>2012</th>\n",
       "      <th>2013</th>\n",
       "      <th>2014</th>\n",
       "      <th>2015</th>\n",
       "      <th>2016</th>\n",
       "      <th>2017</th>\n",
       "      <th>2018</th>\n",
       "      <th>2019</th>\n",
       "      <th>2020</th>\n",
       "    </tr>\n",
       "  </thead>\n",
       "  <tbody>\n",
       "    <tr>\n",
       "      <th>0</th>\n",
       "      <td>Inflation rate</td>\n",
       "      <td>52.7</td>\n",
       "      <td>325.5</td>\n",
       "      <td>183</td>\n",
       "      <td>66.3</td>\n",
       "      <td>53.1</td>\n",
       "      <td>44.6</td>\n",
       "      <td>20.5</td>\n",
       "      <td>6</td>\n",
       "      <td>10</td>\n",
       "      <td>...</td>\n",
       "      <td>8.9</td>\n",
       "      <td>14</td>\n",
       "      <td>12.5</td>\n",
       "      <td>10.4</td>\n",
       "      <td>1.9</td>\n",
       "      <td>1.3</td>\n",
       "      <td>6.4</td>\n",
       "      <td>8.1</td>\n",
       "      <td>5.2</td>\n",
       "      <td>2.3</td>\n",
       "    </tr>\n",
       "  </tbody>\n",
       "</table>\n",
       "<p>1 rows × 31 columns</p>\n",
       "</div>"
      ],
      "text/plain": [
       "        INDICATOR  1991   1992  1993  1994  1995  1996  1997  1998  1999  ...  \\\n",
       "0  Inflation rate  52.7  325.5   183  66.3  53.1  44.6  20.5     6    10  ...   \n",
       "\n",
       "   2011  2012  2013  2014  2015  2016  2017  2018  2019  2020  \n",
       "0   8.9    14  12.5  10.4   1.9   1.3   6.4   8.1   5.2   2.3  \n",
       "\n",
       "[1 rows x 31 columns]"
      ]
     },
     "execution_count": 5,
     "metadata": {},
     "output_type": "execute_result"
    }
   ],
   "source": [
    "inflation.head()"
   ]
  },
  {
   "cell_type": "code",
   "execution_count": 6,
   "metadata": {
    "cell_id": "00007-8a46f39f-a42c-4439-b8b6-24a5e855edd8",
    "deepnote_cell_type": "code",
    "deepnote_to_be_reexecuted": false,
    "execution_millis": 140,
    "execution_start": 1639648044996,
    "source_hash": "56ebe6e2",
    "tags": []
   },
   "outputs": [
    {
     "data": {
      "text/html": [
       "<div>\n",
       "<style scoped>\n",
       "    .dataframe tbody tr th:only-of-type {\n",
       "        vertical-align: middle;\n",
       "    }\n",
       "\n",
       "    .dataframe tbody tr th {\n",
       "        vertical-align: top;\n",
       "    }\n",
       "\n",
       "    .dataframe thead th {\n",
       "        text-align: right;\n",
       "    }\n",
       "</style>\n",
       "<table border=\"1\" class=\"dataframe\">\n",
       "  <thead>\n",
       "    <tr style=\"text-align: right;\">\n",
       "      <th></th>\n",
       "      <th>Aimag</th>\n",
       "      <th>Sex</th>\n",
       "      <th>1995</th>\n",
       "      <th>1996</th>\n",
       "      <th>1997</th>\n",
       "      <th>1998</th>\n",
       "      <th>1999</th>\n",
       "      <th>2000</th>\n",
       "      <th>2001</th>\n",
       "      <th>2002</th>\n",
       "      <th>...</th>\n",
       "      <th>2010</th>\n",
       "      <th>2011</th>\n",
       "      <th>2012</th>\n",
       "      <th>2014</th>\n",
       "      <th>2015</th>\n",
       "      <th>2016</th>\n",
       "      <th>2017</th>\n",
       "      <th>2018</th>\n",
       "      <th>2019</th>\n",
       "      <th>2020</th>\n",
       "    </tr>\n",
       "  </thead>\n",
       "  <tbody>\n",
       "    <tr>\n",
       "      <th>0</th>\n",
       "      <td>Total</td>\n",
       "      <td>Total</td>\n",
       "      <td>24.4</td>\n",
       "      <td>31.9</td>\n",
       "      <td>37.8</td>\n",
       "      <td>48.1</td>\n",
       "      <td>55.4</td>\n",
       "      <td>62.3</td>\n",
       "      <td>65.2</td>\n",
       "      <td>71.3</td>\n",
       "      <td>...</td>\n",
       "      <td>341.5</td>\n",
       "      <td>424.2</td>\n",
       "      <td>557.6</td>\n",
       "      <td>796.6</td>\n",
       "      <td>808.0</td>\n",
       "      <td>861.9</td>\n",
       "      <td>944.5</td>\n",
       "      <td>1002.9</td>\n",
       "      <td>1124.3</td>\n",
       "      <td>1220.6</td>\n",
       "    </tr>\n",
       "  </tbody>\n",
       "</table>\n",
       "<p>1 rows × 27 columns</p>\n",
       "</div>"
      ],
      "text/plain": [
       "   Aimag    Sex  1995  1996  1997  1998  1999  2000  2001  2002  ...   2010  \\\n",
       "0  Total  Total  24.4  31.9  37.8  48.1  55.4  62.3  65.2  71.3  ...  341.5   \n",
       "\n",
       "    2011   2012   2014   2015   2016   2017    2018    2019    2020  \n",
       "0  424.2  557.6  796.6  808.0  861.9  944.5  1002.9  1124.3  1220.6  \n",
       "\n",
       "[1 rows x 27 columns]"
      ]
     },
     "execution_count": 6,
     "metadata": {},
     "output_type": "execute_result"
    }
   ],
   "source": [
    "wages.head()"
   ]
  },
  {
   "cell_type": "markdown",
   "metadata": {
    "cell_id": "00008-28368c6a-a569-4eb4-8303-cf7880699170",
    "deepnote_cell_type": "markdown",
    "tags": []
   },
   "source": [
    "### Reformat from short form to long form"
   ]
  },
  {
   "cell_type": "code",
   "execution_count": 7,
   "metadata": {
    "cell_id": "00008-81102115-c7ab-4ef5-9099-4416c988aedc",
    "deepnote_cell_type": "code",
    "deepnote_to_be_reexecuted": false,
    "execution_millis": 0,
    "execution_start": 1639648045182,
    "source_hash": "1e783395",
    "tags": []
   },
   "outputs": [],
   "source": [
    "inflation = pd.melt(inflation, id_vars=['INDICATOR'], var_name='year', value_name='inflation').drop(columns='INDICATOR')"
   ]
  },
  {
   "cell_type": "code",
   "execution_count": 8,
   "metadata": {
    "cell_id": "00011-bcbdf753-b7b9-4b79-8ec0-1884abfbcf5c",
    "deepnote_cell_type": "code",
    "deepnote_to_be_reexecuted": false,
    "execution_start": 1639648045183,
    "source_hash": "7ee07d36"
   },
   "outputs": [],
   "source": [
    "inflation['year'] = inflation['year'].astype('int')"
   ]
  },
  {
   "cell_type": "code",
   "execution_count": 9,
   "metadata": {
    "cell_id": "00009-8eebbe0f-d397-449b-b87a-b9c9ee55fceb",
    "deepnote_cell_type": "code",
    "deepnote_to_be_reexecuted": false,
    "execution_millis": 3,
    "execution_start": 1639648045225,
    "source_hash": "fe56c9d7",
    "tags": []
   },
   "outputs": [
    {
     "data": {
      "text/html": [
       "<div>\n",
       "<style scoped>\n",
       "    .dataframe tbody tr th:only-of-type {\n",
       "        vertical-align: middle;\n",
       "    }\n",
       "\n",
       "    .dataframe tbody tr th {\n",
       "        vertical-align: top;\n",
       "    }\n",
       "\n",
       "    .dataframe thead th {\n",
       "        text-align: right;\n",
       "    }\n",
       "</style>\n",
       "<table border=\"1\" class=\"dataframe\">\n",
       "  <thead>\n",
       "    <tr style=\"text-align: right;\">\n",
       "      <th></th>\n",
       "      <th>year</th>\n",
       "      <th>inflation</th>\n",
       "    </tr>\n",
       "  </thead>\n",
       "  <tbody>\n",
       "    <tr>\n",
       "      <th>0</th>\n",
       "      <td>1991</td>\n",
       "      <td>52.7</td>\n",
       "    </tr>\n",
       "    <tr>\n",
       "      <th>1</th>\n",
       "      <td>1992</td>\n",
       "      <td>325.5</td>\n",
       "    </tr>\n",
       "  </tbody>\n",
       "</table>\n",
       "</div>"
      ],
      "text/plain": [
       "   year  inflation\n",
       "0  1991       52.7\n",
       "1  1992      325.5"
      ]
     },
     "execution_count": 9,
     "metadata": {},
     "output_type": "execute_result"
    }
   ],
   "source": [
    "inflation.head(2)"
   ]
  },
  {
   "cell_type": "code",
   "execution_count": 10,
   "metadata": {
    "cell_id": "00010-ec1368fe-10c6-4a93-a7a4-e3ae7726fa92",
    "deepnote_cell_type": "code",
    "deepnote_to_be_reexecuted": false,
    "execution_millis": 0,
    "execution_start": 1639648045226,
    "source_hash": "57976107",
    "tags": []
   },
   "outputs": [],
   "source": [
    "income_groups = (pd.melt(income_groups, \n",
    "                         id_vars=['Location','Revenue'], \n",
    "                         var_name='year', \n",
    "                         value_name='percent')\n",
    "                .rename(columns={'Location':'type','Revenue':'income_category'}))"
   ]
  },
  {
   "cell_type": "code",
   "execution_count": 11,
   "metadata": {
    "cell_id": "00018-12dbb8c5-39e4-469e-bac3-d4d29b4a3bf7",
    "deepnote_cell_type": "code",
    "deepnote_output_heights": [
     232.25
    ],
    "deepnote_to_be_reexecuted": false,
    "execution_millis": 1,
    "execution_start": 1639648045281,
    "source_hash": "ad164e45",
    "tags": []
   },
   "outputs": [],
   "source": [
    "income_groups['year'] = income_groups['year'].astype('int')"
   ]
  },
  {
   "cell_type": "code",
   "execution_count": 12,
   "metadata": {
    "cell_id": "00011-f8642864-612e-4d86-9c96-34eb2e49a419",
    "deepnote_cell_type": "code",
    "deepnote_to_be_reexecuted": false,
    "execution_millis": 2,
    "execution_start": 1639648045322,
    "source_hash": "d2f54e0a",
    "tags": []
   },
   "outputs": [
    {
     "data": {
      "text/html": [
       "<div>\n",
       "<style scoped>\n",
       "    .dataframe tbody tr th:only-of-type {\n",
       "        vertical-align: middle;\n",
       "    }\n",
       "\n",
       "    .dataframe tbody tr th {\n",
       "        vertical-align: top;\n",
       "    }\n",
       "\n",
       "    .dataframe thead th {\n",
       "        text-align: right;\n",
       "    }\n",
       "</style>\n",
       "<table border=\"1\" class=\"dataframe\">\n",
       "  <thead>\n",
       "    <tr style=\"text-align: right;\">\n",
       "      <th></th>\n",
       "      <th>type</th>\n",
       "      <th>income_category</th>\n",
       "      <th>year</th>\n",
       "      <th>percent</th>\n",
       "    </tr>\n",
       "  </thead>\n",
       "  <tbody>\n",
       "    <tr>\n",
       "      <th>0</th>\n",
       "      <td>National average</td>\n",
       "      <td>under 300 000</td>\n",
       "      <td>2011</td>\n",
       "      <td>34.7</td>\n",
       "    </tr>\n",
       "    <tr>\n",
       "      <th>1</th>\n",
       "      <td>National average</td>\n",
       "      <td>300 001 - 500 000</td>\n",
       "      <td>2011</td>\n",
       "      <td>24.7</td>\n",
       "    </tr>\n",
       "  </tbody>\n",
       "</table>\n",
       "</div>"
      ],
      "text/plain": [
       "               type    income_category  year  percent\n",
       "0  National average      under 300 000  2011     34.7\n",
       "1  National average  300 001 - 500 000  2011     24.7"
      ]
     },
     "execution_count": 12,
     "metadata": {},
     "output_type": "execute_result"
    }
   ],
   "source": [
    "income_groups.head(2)"
   ]
  },
  {
   "cell_type": "code",
   "execution_count": 13,
   "metadata": {
    "cell_id": "00013-42d71975-df5d-4ff4-bae1-e6e135414263",
    "deepnote_cell_type": "code",
    "deepnote_to_be_reexecuted": false,
    "execution_millis": 11,
    "execution_start": 1639648045323,
    "source_hash": "68d02170",
    "tags": []
   },
   "outputs": [],
   "source": [
    "wages = pd.melt(wages, id_vars=['Aimag', 'Sex'], var_name='year', value_name='avg_wage')"
   ]
  },
  {
   "cell_type": "code",
   "execution_count": 14,
   "metadata": {
    "cell_id": "00014-cc3f4c78-2c67-435b-a902-cd5beb89e9e4",
    "deepnote_cell_type": "code",
    "deepnote_to_be_reexecuted": false,
    "execution_millis": 0,
    "execution_start": 1639648045345,
    "source_hash": "188321fa",
    "tags": []
   },
   "outputs": [],
   "source": [
    "wages = wages.drop(columns=['Aimag','Sex'])"
   ]
  },
  {
   "cell_type": "code",
   "execution_count": 15,
   "metadata": {
    "cell_id": "00018-b41c0a66-6dbb-4184-ba49-41d2f37fb3dd",
    "deepnote_cell_type": "code",
    "deepnote_to_be_reexecuted": false,
    "execution_millis": 1,
    "execution_start": 1639648045397,
    "source_hash": "e695b41e"
   },
   "outputs": [],
   "source": [
    "wages['year'] = wages['year'].astype('int')"
   ]
  },
  {
   "cell_type": "code",
   "execution_count": 16,
   "metadata": {
    "cell_id": "00019-3b6ff41a-d315-4ea3-ab31-7662c54d92ab",
    "deepnote_cell_type": "code",
    "deepnote_to_be_reexecuted": false,
    "execution_start": 1639648045399,
    "source_hash": "628ecb69"
   },
   "outputs": [],
   "source": [
    "wages['avg_wage'] = wages['avg_wage'].astype('float')"
   ]
  },
  {
   "cell_type": "code",
   "execution_count": 17,
   "metadata": {
    "cell_id": "00014-e35309a5-d4fc-4020-82f1-84fb1d00ccad",
    "deepnote_cell_type": "code",
    "deepnote_to_be_reexecuted": false,
    "execution_millis": 43,
    "execution_start": 1639648045399,
    "source_hash": "7484bd75",
    "tags": []
   },
   "outputs": [
    {
     "data": {
      "text/html": [
       "<div>\n",
       "<style scoped>\n",
       "    .dataframe tbody tr th:only-of-type {\n",
       "        vertical-align: middle;\n",
       "    }\n",
       "\n",
       "    .dataframe tbody tr th {\n",
       "        vertical-align: top;\n",
       "    }\n",
       "\n",
       "    .dataframe thead th {\n",
       "        text-align: right;\n",
       "    }\n",
       "</style>\n",
       "<table border=\"1\" class=\"dataframe\">\n",
       "  <thead>\n",
       "    <tr style=\"text-align: right;\">\n",
       "      <th></th>\n",
       "      <th>year</th>\n",
       "      <th>avg_wage</th>\n",
       "    </tr>\n",
       "  </thead>\n",
       "  <tbody>\n",
       "    <tr>\n",
       "      <th>0</th>\n",
       "      <td>1995</td>\n",
       "      <td>24.4</td>\n",
       "    </tr>\n",
       "    <tr>\n",
       "      <th>1</th>\n",
       "      <td>1996</td>\n",
       "      <td>31.9</td>\n",
       "    </tr>\n",
       "  </tbody>\n",
       "</table>\n",
       "</div>"
      ],
      "text/plain": [
       "   year  avg_wage\n",
       "0  1995      24.4\n",
       "1  1996      31.9"
      ]
     },
     "execution_count": 17,
     "metadata": {},
     "output_type": "execute_result"
    }
   ],
   "source": [
    "wages.head(2)"
   ]
  },
  {
   "cell_type": "markdown",
   "metadata": {
    "cell_id": "00012-86010450-2917-48cb-87e7-068bdf3b9483",
    "deepnote_cell_type": "markdown",
    "tags": []
   },
   "source": [
    "## Plot Economic Stratification from 2011-2020"
   ]
  },
  {
   "cell_type": "markdown",
   "metadata": {
    "cell_id": "00017-73fed8ab-1a28-475b-9742-f387790cc04d",
    "deepnote_cell_type": "markdown",
    "tags": []
   },
   "source": [
    "Starting in 2019 the income group \"2 100 001 and over\" was split up to relfect the growing number of Mongolians making higher wages. If was split into \"2 100 001 - 3 000 000\" and \"2 100 001 - 3 000 000\". However this causes a problem for our analysis as we don't have consistent buckets from 2011 to 2020. \n",
    "\n",
    "To fix this we will take the percents from the two top buckets and add them together to recreate the \"2 100 001 and over\" bucket from pre-2019.  "
   ]
  },
  {
   "cell_type": "markdown",
   "metadata": {
    "cell_id": "00020-2f55b74d-1903-42b2-a4af-722919263b7d",
    "deepnote_cell_type": "markdown",
    "tags": []
   },
   "source": [
    "For our analysis we only care about 2011 and 2020 and the national average."
   ]
  },
  {
   "cell_type": "code",
   "execution_count": 18,
   "metadata": {
    "cell_id": "00013-726c439b-0802-4aa7-983d-9a432cfb9a57",
    "deepnote_cell_type": "code",
    "deepnote_to_be_reexecuted": false,
    "execution_millis": 0,
    "execution_start": 1639648045441,
    "source_hash": "2e9164dd",
    "tags": []
   },
   "outputs": [],
   "source": [
    "income_groups = income_groups[(income_groups['year'] == 2011) | (income_groups['year'] == 2020)]\n",
    "income_groups = income_groups[income_groups['type'] == 'National average']"
   ]
  },
  {
   "cell_type": "markdown",
   "metadata": {
    "cell_id": "00023-c278911a-ec51-410d-9952-9d3cf8d20294",
    "deepnote_cell_type": "markdown",
    "tags": []
   },
   "source": [
    "These labels are ugly. Let's fix them"
   ]
  },
  {
   "cell_type": "code",
   "execution_count": 19,
   "metadata": {
    "cell_id": "00024-b3ef25f6-534f-4f4c-a4bf-cd355df44489",
    "deepnote_cell_type": "code",
    "deepnote_to_be_reexecuted": false,
    "execution_millis": 6,
    "execution_start": 1639648045448,
    "source_hash": "48e9dbf5",
    "tags": []
   },
   "outputs": [],
   "source": [
    "cat_mapper = {'under 300 000': '0-300,000', '300 001 - 500 000': '300,001-500,000', \n",
    "              '500 001 - 700 000':'500,001-700,000', '700 001 - 900 000': '700,001-900,000', \n",
    "              '900 001 - 1 100 000':'900,001-1,100,000', '1 100 001 - 1 600 000':'1,100,001-1,600,000', \n",
    "              '1 600 001 - 2 100 000':'1,600,001-2,100,000','2 100 001 and over': '2,100,001+', \n",
    "              '2 100 001 - 3 000 000':'2,100,001+', '3 000 001 and over':'2,100,001+'}"
   ]
  },
  {
   "cell_type": "code",
   "execution_count": 20,
   "metadata": {
    "cell_id": "00025-4ecd4032-08b1-4897-9d03-b8f87507409a",
    "deepnote_cell_type": "code",
    "deepnote_output_heights": [
     404.9375
    ],
    "deepnote_to_be_reexecuted": false,
    "execution_millis": 76915238,
    "execution_start": 1639648045465,
    "source_hash": "5ea19cf7",
    "tags": []
   },
   "outputs": [],
   "source": [
    "income_groups['income_category'] = income_groups['income_category'].replace(cat_mapper)"
   ]
  },
  {
   "cell_type": "code",
   "execution_count": 21,
   "metadata": {
    "cell_id": "00022-e2092648-4723-4c8d-b43b-0ea2f277795a",
    "deepnote_cell_type": "code",
    "deepnote_output_heights": [
     59.5625
    ],
    "deepnote_to_be_reexecuted": false,
    "execution_millis": 76913572,
    "execution_start": 1639648045482,
    "source_hash": "e5bf6454",
    "tags": []
   },
   "outputs": [
    {
     "data": {
      "text/plain": [
       "array(['0-300,000', '300,001-500,000', '500,001-700,000',\n",
       "       '700,001-900,000', '900,001-1,100,000', '1,100,001-1,600,000',\n",
       "       '1,600,001-2,100,000', '2,100,001+'], dtype=object)"
      ]
     },
     "execution_count": 21,
     "metadata": {},
     "output_type": "execute_result"
    }
   ],
   "source": [
    "income_groups['income_category'].unique()"
   ]
  },
  {
   "cell_type": "code",
   "execution_count": 22,
   "metadata": {
    "cell_id": "00026-692f89ec-bbaa-45c6-9fba-3700d7a9ba96",
    "deepnote_cell_type": "code",
    "deepnote_to_be_reexecuted": false,
    "execution_millis": 76725813,
    "execution_start": 1639648045496,
    "source_hash": "6c4190c7",
    "tags": []
   },
   "outputs": [],
   "source": [
    "income_groups = income_groups.groupby(by=['year','income_category']).sum().reset_index()"
   ]
  },
  {
   "cell_type": "code",
   "execution_count": 23,
   "metadata": {
    "cell_id": "00027-b19b5feb-7e4b-4412-ab7e-45b6d0c87b4f",
    "deepnote_cell_type": "code",
    "deepnote_output_heights": [
     328.1875
    ],
    "deepnote_to_be_reexecuted": false,
    "execution_millis": 75804267,
    "execution_start": 1639648045550,
    "source_hash": "695f5d8d",
    "tags": []
   },
   "outputs": [],
   "source": [
    "income_groups['bucket_min'] = income_groups['income_category'].str.split('-').str.get(0).str.split('+').str.get(0).str.replace(',','').astype('int')"
   ]
  },
  {
   "cell_type": "code",
   "execution_count": 24,
   "metadata": {
    "cell_id": "00028-c7a8d80c-3d2c-4951-a4d4-a0b9aba61364",
    "deepnote_cell_type": "code",
    "deepnote_output_heights": [
     117.125
    ],
    "deepnote_to_be_reexecuted": false,
    "execution_millis": 75742955,
    "execution_start": 1639648045551,
    "source_hash": "ce9fc027",
    "tags": []
   },
   "outputs": [],
   "source": [
    "income_groups = income_groups.sort_values(by=['year','bucket_min'])"
   ]
  },
  {
   "cell_type": "code",
   "execution_count": 25,
   "metadata": {
    "cell_id": "00029-92fdd9f8-2578-4066-a049-e14a2d14df20",
    "deepnote_cell_type": "code",
    "deepnote_to_be_reexecuted": false,
    "execution_millis": 105,
    "execution_start": 1639648045594,
    "source_hash": "77f4c12",
    "tags": []
   },
   "outputs": [
    {
     "data": {
      "text/html": [
       "<div>\n",
       "<style scoped>\n",
       "    .dataframe tbody tr th:only-of-type {\n",
       "        vertical-align: middle;\n",
       "    }\n",
       "\n",
       "    .dataframe tbody tr th {\n",
       "        vertical-align: top;\n",
       "    }\n",
       "\n",
       "    .dataframe thead th {\n",
       "        text-align: right;\n",
       "    }\n",
       "</style>\n",
       "<table border=\"1\" class=\"dataframe\">\n",
       "  <thead>\n",
       "    <tr style=\"text-align: right;\">\n",
       "      <th></th>\n",
       "      <th>year</th>\n",
       "      <th>income_category</th>\n",
       "      <th>percent</th>\n",
       "      <th>bucket_min</th>\n",
       "    </tr>\n",
       "  </thead>\n",
       "  <tbody>\n",
       "    <tr>\n",
       "      <th>0</th>\n",
       "      <td>2011</td>\n",
       "      <td>0-300,000</td>\n",
       "      <td>34.7</td>\n",
       "      <td>0</td>\n",
       "    </tr>\n",
       "    <tr>\n",
       "      <th>4</th>\n",
       "      <td>2011</td>\n",
       "      <td>300,001-500,000</td>\n",
       "      <td>24.7</td>\n",
       "      <td>300001</td>\n",
       "    </tr>\n",
       "    <tr>\n",
       "      <th>5</th>\n",
       "      <td>2011</td>\n",
       "      <td>500,001-700,000</td>\n",
       "      <td>16.1</td>\n",
       "      <td>500001</td>\n",
       "    </tr>\n",
       "    <tr>\n",
       "      <th>6</th>\n",
       "      <td>2011</td>\n",
       "      <td>700,001-900,000</td>\n",
       "      <td>9.6</td>\n",
       "      <td>700001</td>\n",
       "    </tr>\n",
       "    <tr>\n",
       "      <th>7</th>\n",
       "      <td>2011</td>\n",
       "      <td>900,001-1,100,000</td>\n",
       "      <td>5.8</td>\n",
       "      <td>900001</td>\n",
       "    </tr>\n",
       "    <tr>\n",
       "      <th>1</th>\n",
       "      <td>2011</td>\n",
       "      <td>1,100,001-1,600,000</td>\n",
       "      <td>5.8</td>\n",
       "      <td>1100001</td>\n",
       "    </tr>\n",
       "    <tr>\n",
       "      <th>2</th>\n",
       "      <td>2011</td>\n",
       "      <td>1,600,001-2,100,000</td>\n",
       "      <td>1.8</td>\n",
       "      <td>1600001</td>\n",
       "    </tr>\n",
       "    <tr>\n",
       "      <th>3</th>\n",
       "      <td>2011</td>\n",
       "      <td>2,100,001+</td>\n",
       "      <td>1.5</td>\n",
       "      <td>2100001</td>\n",
       "    </tr>\n",
       "    <tr>\n",
       "      <th>8</th>\n",
       "      <td>2020</td>\n",
       "      <td>0-300,000</td>\n",
       "      <td>3.9</td>\n",
       "      <td>0</td>\n",
       "    </tr>\n",
       "    <tr>\n",
       "      <th>12</th>\n",
       "      <td>2020</td>\n",
       "      <td>300,001-500,000</td>\n",
       "      <td>10.5</td>\n",
       "      <td>300001</td>\n",
       "    </tr>\n",
       "    <tr>\n",
       "      <th>13</th>\n",
       "      <td>2020</td>\n",
       "      <td>500,001-700,000</td>\n",
       "      <td>10.4</td>\n",
       "      <td>500001</td>\n",
       "    </tr>\n",
       "    <tr>\n",
       "      <th>14</th>\n",
       "      <td>2020</td>\n",
       "      <td>700,001-900,000</td>\n",
       "      <td>11.8</td>\n",
       "      <td>700001</td>\n",
       "    </tr>\n",
       "    <tr>\n",
       "      <th>15</th>\n",
       "      <td>2020</td>\n",
       "      <td>900,001-1,100,000</td>\n",
       "      <td>11.3</td>\n",
       "      <td>900001</td>\n",
       "    </tr>\n",
       "    <tr>\n",
       "      <th>9</th>\n",
       "      <td>2020</td>\n",
       "      <td>1,100,001-1,600,000</td>\n",
       "      <td>21.0</td>\n",
       "      <td>1100001</td>\n",
       "    </tr>\n",
       "    <tr>\n",
       "      <th>10</th>\n",
       "      <td>2020</td>\n",
       "      <td>1,600,001-2,100,000</td>\n",
       "      <td>13.3</td>\n",
       "      <td>1600001</td>\n",
       "    </tr>\n",
       "    <tr>\n",
       "      <th>11</th>\n",
       "      <td>2020</td>\n",
       "      <td>2,100,001+</td>\n",
       "      <td>17.8</td>\n",
       "      <td>2100001</td>\n",
       "    </tr>\n",
       "  </tbody>\n",
       "</table>\n",
       "</div>"
      ],
      "text/plain": [
       "    year      income_category  percent  bucket_min\n",
       "0   2011            0-300,000     34.7           0\n",
       "4   2011      300,001-500,000     24.7      300001\n",
       "5   2011      500,001-700,000     16.1      500001\n",
       "6   2011      700,001-900,000      9.6      700001\n",
       "7   2011    900,001-1,100,000      5.8      900001\n",
       "1   2011  1,100,001-1,600,000      5.8     1100001\n",
       "2   2011  1,600,001-2,100,000      1.8     1600001\n",
       "3   2011           2,100,001+      1.5     2100001\n",
       "8   2020            0-300,000      3.9           0\n",
       "12  2020      300,001-500,000     10.5      300001\n",
       "13  2020      500,001-700,000     10.4      500001\n",
       "14  2020      700,001-900,000     11.8      700001\n",
       "15  2020    900,001-1,100,000     11.3      900001\n",
       "9   2020  1,100,001-1,600,000     21.0     1100001\n",
       "10  2020  1,600,001-2,100,000     13.3     1600001\n",
       "11  2020           2,100,001+     17.8     2100001"
      ]
     },
     "execution_count": 25,
     "metadata": {},
     "output_type": "execute_result"
    }
   ],
   "source": [
    "income_groups"
   ]
  },
  {
   "cell_type": "code",
   "execution_count": 26,
   "metadata": {
    "cell_id": "00022-8da2b065-96df-498d-83d3-c7db96c9c997",
    "deepnote_cell_type": "code",
    "deepnote_output_heights": [
     611,
     155.5,
     611
    ],
    "deepnote_to_be_reexecuted": false,
    "execution_millis": 3159,
    "execution_start": 1639648045698,
    "source_hash": "157e8b5c",
    "tags": []
   },
   "outputs": [
    {
     "data": {
      "image/png": "[encoded data removed]",
      "text/plain": [
       "<Figure size 1200x800 with 1 Axes>"
      ]
     },
     "metadata": {},
     "output_type": "display_data"
    }
   ],
   "source": [
    "fig, ax = plt.subplots()\n",
    "\n",
    "x1 = income_groups[income_groups['year'] == 2011]['income_category']\n",
    "y1 = income_groups[income_groups['year'] == 2011]['percent']\n",
    "y2 = income_groups[income_groups['year'] == 2020]['percent']\n",
    "\n",
    "ax.bar(x1, y1, width=.99, alpha=.7, color='tab:red')\n",
    "ax.bar(x1, y2, width=.99, alpha=.7, color='tab:blue')\n",
    "\n",
    "# Format axes\n",
    "ax.set_xlim(-0.5, 7.5)\n",
    "ax.set_ylabel(\"Percent\")\n",
    "\n",
    "# This nice trick works with text and dates. \n",
    "fig.autofmt_xdate(rotation=45)\n",
    "\n",
    "# Set Legend\n",
    "ax.legend(['2011', '2020'], loc=(.75,1), ncol=2, frameon=False, handletextpad=.1, handleheight=1)\n",
    "\n",
    "# Set title and subtitle\n",
    "ax.text(x=0.03, y=.94, s=\"9 Years Makes a Big Difference\", transform=fig.transFigure, ha='left', fontsize=26, weight='bold', alpha=.8)\n",
    "ax.text(x=0.03, y=.90, s=\"Percent of Households by Income Bracket\", transform=fig.transFigure, ha='left', fontsize=18, alpha=.8)\n",
    "\n",
    "# Set bottom banner\n",
    "ax.text(x = 0.03, y = -0.05, s = '©Mongolian Data Stories', transform=fig.transFigure, ha='left', fontsize = 16)\n",
    "ax.text(x = .95, y = -0.05, s = 'Data Source: 1212.mn', transform=fig.transFigure, ha='right', fontsize = 16)\n",
    "plt.savefig('images/2011v2020.png', dpi = 300, bbox_inches=\"tight\")"
   ]
  },
  {
   "cell_type": "markdown",
   "metadata": {
    "cell_id": "00019-01433cfa-3c2c-43e4-8c92-7aca7a248713",
    "deepnote_cell_type": "markdown",
    "tags": []
   },
   "source": [
    "## But what about inflation?"
   ]
  },
  {
   "cell_type": "markdown",
   "metadata": {
    "cell_id": "00020-96fc497d-6594-4425-9482-e7ff0dfc3284",
    "deepnote_cell_type": "markdown",
    "tags": []
   },
   "source": [
    "Like many developing countries, inflation can be a big issue in Mongolia. Let's factor in inflation to our monthly average wage number. To do this we need to create an \"index value\". We will set 2011 to 100 as this is our starting number (we could imagine this as 100 tugriks). From there we will see how this amount would be adjusted until 2020."
   ]
  },
  {
   "cell_type": "code",
   "execution_count": 27,
   "metadata": {
    "cell_id": "00021-3e531069-6da1-4f27-a4d9-e0b94464890b",
    "deepnote_cell_type": "code",
    "deepnote_to_be_reexecuted": false,
    "execution_millis": 10,
    "execution_start": 1639648048858,
    "source_hash": "29fbdc5",
    "tags": []
   },
   "outputs": [],
   "source": [
    "inflation = inflation[inflation['year'] >= 2011].reset_index(drop=True)"
   ]
  },
  {
   "cell_type": "markdown",
   "metadata": {
    "cell_id": "00037-4cc2b75f-01a6-4816-944a-550e521a7861",
    "deepnote_cell_type": "markdown"
   },
   "source": [
    "To create our index we loop through the rows and multiply the previous row by the current inflation."
   ]
  },
  {
   "cell_type": "code",
   "execution_count": 28,
   "metadata": {
    "cell_id": "00038-21346afd-1a4c-433b-86d5-55b76e26c6fc",
    "deepnote_cell_type": "code",
    "deepnote_to_be_reexecuted": false,
    "execution_start": 1639648048880,
    "source_hash": "69b4eae6"
   },
   "outputs": [],
   "source": [
    "index = []\n",
    "for i, row in inflation.iterrows():\n",
    "    if len(index) == 0:\n",
    "        index.append(100)\n",
    "    else:\n",
    "        index.append(index[-1] * (row['inflation'] / 100 + 1))"
   ]
  },
  {
   "cell_type": "code",
   "execution_count": 29,
   "metadata": {
    "cell_id": "00039-4d56f19c-7349-47a4-935e-3eca2fd04ba0",
    "deepnote_cell_type": "code",
    "deepnote_to_be_reexecuted": false,
    "execution_start": 1639648048894,
    "source_hash": "7f83f624"
   },
   "outputs": [],
   "source": [
    "inflation['inflation_index'] = pd.Series(index)"
   ]
  },
  {
   "cell_type": "code",
   "execution_count": 30,
   "metadata": {
    "cell_id": "00040-81e3ddcf-339a-4ba0-9ada-9fbd85df31af",
    "deepnote_cell_type": "code",
    "deepnote_to_be_reexecuted": false,
    "execution_millis": 43,
    "execution_start": 1639648048908,
    "source_hash": "dbb6267c"
   },
   "outputs": [
    {
     "data": {
      "text/html": [
       "<div>\n",
       "<style scoped>\n",
       "    .dataframe tbody tr th:only-of-type {\n",
       "        vertical-align: middle;\n",
       "    }\n",
       "\n",
       "    .dataframe tbody tr th {\n",
       "        vertical-align: top;\n",
       "    }\n",
       "\n",
       "    .dataframe thead th {\n",
       "        text-align: right;\n",
       "    }\n",
       "</style>\n",
       "<table border=\"1\" class=\"dataframe\">\n",
       "  <thead>\n",
       "    <tr style=\"text-align: right;\">\n",
       "      <th></th>\n",
       "      <th>year</th>\n",
       "      <th>inflation</th>\n",
       "      <th>inflation_index</th>\n",
       "    </tr>\n",
       "  </thead>\n",
       "  <tbody>\n",
       "    <tr>\n",
       "      <th>0</th>\n",
       "      <td>2011</td>\n",
       "      <td>8.9</td>\n",
       "      <td>100.000000</td>\n",
       "    </tr>\n",
       "    <tr>\n",
       "      <th>1</th>\n",
       "      <td>2012</td>\n",
       "      <td>14.0</td>\n",
       "      <td>114.000000</td>\n",
       "    </tr>\n",
       "    <tr>\n",
       "      <th>2</th>\n",
       "      <td>2013</td>\n",
       "      <td>12.5</td>\n",
       "      <td>128.250000</td>\n",
       "    </tr>\n",
       "    <tr>\n",
       "      <th>3</th>\n",
       "      <td>2014</td>\n",
       "      <td>10.4</td>\n",
       "      <td>141.588000</td>\n",
       "    </tr>\n",
       "    <tr>\n",
       "      <th>4</th>\n",
       "      <td>2015</td>\n",
       "      <td>1.9</td>\n",
       "      <td>144.278172</td>\n",
       "    </tr>\n",
       "    <tr>\n",
       "      <th>5</th>\n",
       "      <td>2016</td>\n",
       "      <td>1.3</td>\n",
       "      <td>146.153788</td>\n",
       "    </tr>\n",
       "    <tr>\n",
       "      <th>6</th>\n",
       "      <td>2017</td>\n",
       "      <td>6.4</td>\n",
       "      <td>155.507631</td>\n",
       "    </tr>\n",
       "    <tr>\n",
       "      <th>7</th>\n",
       "      <td>2018</td>\n",
       "      <td>8.1</td>\n",
       "      <td>168.103749</td>\n",
       "    </tr>\n",
       "    <tr>\n",
       "      <th>8</th>\n",
       "      <td>2019</td>\n",
       "      <td>5.2</td>\n",
       "      <td>176.845144</td>\n",
       "    </tr>\n",
       "    <tr>\n",
       "      <th>9</th>\n",
       "      <td>2020</td>\n",
       "      <td>2.3</td>\n",
       "      <td>180.912582</td>\n",
       "    </tr>\n",
       "  </tbody>\n",
       "</table>\n",
       "</div>"
      ],
      "text/plain": [
       "   year  inflation  inflation_index\n",
       "0  2011        8.9       100.000000\n",
       "1  2012       14.0       114.000000\n",
       "2  2013       12.5       128.250000\n",
       "3  2014       10.4       141.588000\n",
       "4  2015        1.9       144.278172\n",
       "5  2016        1.3       146.153788\n",
       "6  2017        6.4       155.507631\n",
       "7  2018        8.1       168.103749\n",
       "8  2019        5.2       176.845144\n",
       "9  2020        2.3       180.912582"
      ]
     },
     "execution_count": 30,
     "metadata": {},
     "output_type": "execute_result"
    }
   ],
   "source": [
    "inflation"
   ]
  },
  {
   "cell_type": "markdown",
   "metadata": {
    "cell_id": "00041-d1032d26-2eab-4a92-b2cd-c4e8a7609ea8",
    "deepnote_cell_type": "markdown"
   },
   "source": [
    "Now we can merge this with the average wage data."
   ]
  },
  {
   "cell_type": "code",
   "execution_count": 31,
   "metadata": {
    "cell_id": "00042-c8e4cc7e-ab90-4c18-92ae-7cf50dbe6c4f",
    "deepnote_cell_type": "code",
    "deepnote_to_be_reexecuted": false,
    "execution_millis": 8,
    "execution_start": 1639648048965,
    "source_hash": "ace0de55"
   },
   "outputs": [],
   "source": [
    "inflation = inflation.merge(wages, on='year', how='left')"
   ]
  },
  {
   "cell_type": "markdown",
   "metadata": {
    "cell_id": "00043-192107ef-f575-482e-8af6-96124540074b",
    "deepnote_cell_type": "markdown"
   },
   "source": [
    "We are missing data for 2013. We will take the average of 2012 and 2014 and impute that for 2013. "
   ]
  },
  {
   "cell_type": "code",
   "execution_count": 32,
   "metadata": {
    "cell_id": "00044-8f6e71a4-17f2-40c9-b0d0-6d375abde9db",
    "deepnote_cell_type": "code",
    "deepnote_to_be_reexecuted": false,
    "execution_millis": 0,
    "execution_start": 1639648049018,
    "source_hash": "6b771a8c"
   },
   "outputs": [],
   "source": [
    "inflation.loc[2, 'avg_wage'] = inflation.iloc[1:4]['avg_wage'].mean()"
   ]
  },
  {
   "cell_type": "code",
   "execution_count": 33,
   "metadata": {
    "cell_id": "00045-c0f69836-0d06-4317-ada8-b73c943a1dc0",
    "deepnote_cell_type": "code",
    "deepnote_to_be_reexecuted": false,
    "execution_millis": 54,
    "execution_start": 1639648049019,
    "source_hash": "6f9bbf2e"
   },
   "outputs": [
    {
     "data": {
      "text/html": [
       "<div>\n",
       "<style scoped>\n",
       "    .dataframe tbody tr th:only-of-type {\n",
       "        vertical-align: middle;\n",
       "    }\n",
       "\n",
       "    .dataframe tbody tr th {\n",
       "        vertical-align: top;\n",
       "    }\n",
       "\n",
       "    .dataframe thead th {\n",
       "        text-align: right;\n",
       "    }\n",
       "</style>\n",
       "<table border=\"1\" class=\"dataframe\">\n",
       "  <thead>\n",
       "    <tr style=\"text-align: right;\">\n",
       "      <th></th>\n",
       "      <th>year</th>\n",
       "      <th>inflation</th>\n",
       "      <th>inflation_index</th>\n",
       "      <th>avg_wage</th>\n",
       "    </tr>\n",
       "  </thead>\n",
       "  <tbody>\n",
       "    <tr>\n",
       "      <th>0</th>\n",
       "      <td>2011</td>\n",
       "      <td>8.9</td>\n",
       "      <td>100.000000</td>\n",
       "      <td>424.2</td>\n",
       "    </tr>\n",
       "    <tr>\n",
       "      <th>1</th>\n",
       "      <td>2012</td>\n",
       "      <td>14.0</td>\n",
       "      <td>114.000000</td>\n",
       "      <td>557.6</td>\n",
       "    </tr>\n",
       "    <tr>\n",
       "      <th>2</th>\n",
       "      <td>2013</td>\n",
       "      <td>12.5</td>\n",
       "      <td>128.250000</td>\n",
       "      <td>677.1</td>\n",
       "    </tr>\n",
       "    <tr>\n",
       "      <th>3</th>\n",
       "      <td>2014</td>\n",
       "      <td>10.4</td>\n",
       "      <td>141.588000</td>\n",
       "      <td>796.6</td>\n",
       "    </tr>\n",
       "    <tr>\n",
       "      <th>4</th>\n",
       "      <td>2015</td>\n",
       "      <td>1.9</td>\n",
       "      <td>144.278172</td>\n",
       "      <td>808.0</td>\n",
       "    </tr>\n",
       "  </tbody>\n",
       "</table>\n",
       "</div>"
      ],
      "text/plain": [
       "   year  inflation  inflation_index  avg_wage\n",
       "0  2011        8.9       100.000000     424.2\n",
       "1  2012       14.0       114.000000     557.6\n",
       "2  2013       12.5       128.250000     677.1\n",
       "3  2014       10.4       141.588000     796.6\n",
       "4  2015        1.9       144.278172     808.0"
      ]
     },
     "execution_count": 33,
     "metadata": {},
     "output_type": "execute_result"
    }
   ],
   "source": [
    "inflation.head()"
   ]
  },
  {
   "cell_type": "markdown",
   "metadata": {
    "cell_id": "00046-ec17f68b-f069-4129-a29a-75a8ab0a24f3",
    "deepnote_cell_type": "markdown"
   },
   "source": [
    "Now that we have our data together, we can rebalance the average wage column to put it into \"2011\" Tugriks. We will use a simple inflation adjustment calculation to do this."
   ]
  },
  {
   "cell_type": "code",
   "execution_count": 34,
   "metadata": {
    "cell_id": "00047-8fde1d78-bfbd-4d5c-8b71-bb854076d6e8",
    "deepnote_cell_type": "code",
    "deepnote_to_be_reexecuted": false,
    "execution_millis": 10,
    "execution_start": 1639648049074,
    "source_hash": "98c2db3b"
   },
   "outputs": [],
   "source": [
    "inflation['inflation_adj'] = inflation['avg_wage'] / inflation['inflation_index'] * 100"
   ]
  },
  {
   "cell_type": "code",
   "execution_count": 35,
   "metadata": {
    "cell_id": "00048-8ec9a4ab-606f-4451-950e-134b7c91f769",
    "deepnote_cell_type": "code",
    "deepnote_to_be_reexecuted": false,
    "execution_millis": 63,
    "execution_start": 1639648049092,
    "source_hash": "dbb6267c"
   },
   "outputs": [
    {
     "data": {
      "text/html": [
       "<div>\n",
       "<style scoped>\n",
       "    .dataframe tbody tr th:only-of-type {\n",
       "        vertical-align: middle;\n",
       "    }\n",
       "\n",
       "    .dataframe tbody tr th {\n",
       "        vertical-align: top;\n",
       "    }\n",
       "\n",
       "    .dataframe thead th {\n",
       "        text-align: right;\n",
       "    }\n",
       "</style>\n",
       "<table border=\"1\" class=\"dataframe\">\n",
       "  <thead>\n",
       "    <tr style=\"text-align: right;\">\n",
       "      <th></th>\n",
       "      <th>year</th>\n",
       "      <th>inflation</th>\n",
       "      <th>inflation_index</th>\n",
       "      <th>avg_wage</th>\n",
       "      <th>inflation_adj</th>\n",
       "    </tr>\n",
       "  </thead>\n",
       "  <tbody>\n",
       "    <tr>\n",
       "      <th>0</th>\n",
       "      <td>2011</td>\n",
       "      <td>8.9</td>\n",
       "      <td>100.000000</td>\n",
       "      <td>424.2</td>\n",
       "      <td>424.200000</td>\n",
       "    </tr>\n",
       "    <tr>\n",
       "      <th>1</th>\n",
       "      <td>2012</td>\n",
       "      <td>14.0</td>\n",
       "      <td>114.000000</td>\n",
       "      <td>557.6</td>\n",
       "      <td>489.122807</td>\n",
       "    </tr>\n",
       "    <tr>\n",
       "      <th>2</th>\n",
       "      <td>2013</td>\n",
       "      <td>12.5</td>\n",
       "      <td>128.250000</td>\n",
       "      <td>677.1</td>\n",
       "      <td>527.953216</td>\n",
       "    </tr>\n",
       "    <tr>\n",
       "      <th>3</th>\n",
       "      <td>2014</td>\n",
       "      <td>10.4</td>\n",
       "      <td>141.588000</td>\n",
       "      <td>796.6</td>\n",
       "      <td>562.618301</td>\n",
       "    </tr>\n",
       "    <tr>\n",
       "      <th>4</th>\n",
       "      <td>2015</td>\n",
       "      <td>1.9</td>\n",
       "      <td>144.278172</td>\n",
       "      <td>808.0</td>\n",
       "      <td>560.029275</td>\n",
       "    </tr>\n",
       "    <tr>\n",
       "      <th>5</th>\n",
       "      <td>2016</td>\n",
       "      <td>1.3</td>\n",
       "      <td>146.153788</td>\n",
       "      <td>861.9</td>\n",
       "      <td>589.721286</td>\n",
       "    </tr>\n",
       "    <tr>\n",
       "      <th>6</th>\n",
       "      <td>2017</td>\n",
       "      <td>6.4</td>\n",
       "      <td>155.507631</td>\n",
       "      <td>944.5</td>\n",
       "      <td>607.365694</td>\n",
       "    </tr>\n",
       "    <tr>\n",
       "      <th>7</th>\n",
       "      <td>2018</td>\n",
       "      <td>8.1</td>\n",
       "      <td>168.103749</td>\n",
       "      <td>1002.9</td>\n",
       "      <td>596.595857</td>\n",
       "    </tr>\n",
       "    <tr>\n",
       "      <th>8</th>\n",
       "      <td>2019</td>\n",
       "      <td>5.2</td>\n",
       "      <td>176.845144</td>\n",
       "      <td>1124.3</td>\n",
       "      <td>635.753958</td>\n",
       "    </tr>\n",
       "    <tr>\n",
       "      <th>9</th>\n",
       "      <td>2020</td>\n",
       "      <td>2.3</td>\n",
       "      <td>180.912582</td>\n",
       "      <td>1220.6</td>\n",
       "      <td>674.690498</td>\n",
       "    </tr>\n",
       "  </tbody>\n",
       "</table>\n",
       "</div>"
      ],
      "text/plain": [
       "   year  inflation  inflation_index  avg_wage  inflation_adj\n",
       "0  2011        8.9       100.000000     424.2     424.200000\n",
       "1  2012       14.0       114.000000     557.6     489.122807\n",
       "2  2013       12.5       128.250000     677.1     527.953216\n",
       "3  2014       10.4       141.588000     796.6     562.618301\n",
       "4  2015        1.9       144.278172     808.0     560.029275\n",
       "5  2016        1.3       146.153788     861.9     589.721286\n",
       "6  2017        6.4       155.507631     944.5     607.365694\n",
       "7  2018        8.1       168.103749    1002.9     596.595857\n",
       "8  2019        5.2       176.845144    1124.3     635.753958\n",
       "9  2020        2.3       180.912582    1220.6     674.690498"
      ]
     },
     "execution_count": 35,
     "metadata": {},
     "output_type": "execute_result"
    }
   ],
   "source": [
    "inflation"
   ]
  },
  {
   "cell_type": "markdown",
   "metadata": {
    "cell_id": "00049-c7a56538-763d-4ba0-97f6-d51f511fc8ef",
    "deepnote_cell_type": "markdown"
   },
   "source": [
    "This function remakes our currency values to have the K and M suffix (K for thousands and M for millions). [Adapted from Jie Jenn](https://www.youtube.com/watch?v=l-j9Mmi7VPk)."
   ]
  },
  {
   "cell_type": "code",
   "execution_count": 36,
   "metadata": {
    "cell_id": "00050-ef3c4c40-abbd-4c05-b910-a39366a7151c",
    "deepnote_cell_type": "code",
    "deepnote_to_be_reexecuted": false,
    "execution_millis": 0,
    "execution_start": 1639648049202,
    "source_hash": "7411ff6d"
   },
   "outputs": [],
   "source": [
    "def format_number(data_value, indx):\n",
    "    if data_value >= 1_000:\n",
    "        formatter = '{:1.1f}M'.format(data_value*0.001)\n",
    "    else:\n",
    "        formatter = '{:1.0f}K'.format(data_value)\n",
    "    return formatter"
   ]
  },
  {
   "cell_type": "code",
   "execution_count": 37,
   "metadata": {
    "cell_id": "00051-83f092ea-6a4a-4418-a17e-a23e879eb67c",
    "deepnote_cell_type": "code",
    "deepnote_output_heights": [
     611
    ],
    "deepnote_to_be_reexecuted": false,
    "execution_millis": 2998,
    "execution_start": 1639648049212,
    "source_hash": "77200787"
   },
   "outputs": [
    {
     "data": {
      "image/png": "[encoded data removed]",
      "text/plain": [
       "<Figure size 1200x800 with 1 Axes>"
      ]
     },
     "metadata": {},
     "output_type": "display_data"
    }
   ],
   "source": [
    "fig, ax = plt.subplots()\n",
    "\n",
    "ax.plot(inflation['year'], inflation['avg_wage'], color='tab:blue')\n",
    "ax.plot(inflation['year'], inflation['inflation_adj'], color='tab:red')\n",
    "\n",
    "ax.set_ylim(250,1_300)\n",
    "ax.set_xlim(2011, 2020)\n",
    "\n",
    "# Add grid\n",
    "ax.grid(axis='y', alpha=.7)\n",
    "\n",
    "# Relabel y-axis to give pretty numbers\n",
    "ax.yaxis.set_major_formatter(format_number)\n",
    "\n",
    "# Add labels\n",
    "ax.text(x = .29, y=.53, s='Monthly Average Wages', transform=fig.transFigure, fontsize = 16, color='tab:blue')\n",
    "ax.text(x = .6, y=.37, s='Adjusted for Inflation', transform=fig.transFigure, fontsize = 16, color='tab:red')\n",
    "\n",
    "# Set title and subtitle\n",
    "ax.text(x=0.03, y=.94, s=\"100k ain't what it used to be\", transform=fig.transFigure, ha='left', fontsize=26, weight='bold', alpha=.8)\n",
    "ax.text(x=0.03, y=.90, s=\"Monthly average wages in Mongolia, raw and adjusted for inflation\", transform=fig.transFigure, ha='left', fontsize=18, alpha=.8)\n",
    "\n",
    "# Set bottom banner\n",
    "ax.text(x = 0.03, y = -0.05, s = '©Mongolian Data Stories', transform=fig.transFigure, ha='left', fontsize = 16)\n",
    "ax.text(x = .95, y = -0.05, s = 'Data Source: 1212.mn', transform=fig.transFigure, ha='right', fontsize = 16)\n",
    "plt.savefig('images/inflation_adjusted_wages.png', dpi = 300, bbox_inches=\"tight\")"
   ]
  },
  {
   "cell_type": "markdown",
   "metadata": {
    "cell_id": "00022-e539f589-6ee9-47ae-a6ee-c422da2fa04b",
    "deepnote_cell_type": "markdown",
    "tags": []
   },
   "source": [
    "## Realigning our thoughts on wages."
   ]
  },
  {
   "cell_type": "markdown",
   "metadata": {
    "cell_id": "00023-7e770ad0-b2cf-4778-a51a-e2a16de0ea89",
    "deepnote_cell_type": "markdown",
    "tags": []
   },
   "source": [
    "Given that we know that 300,000 in 2011 was worth quite a lot more today, let's realign our income distribution plot above to be in 2011 tugriks."
   ]
  },
  {
   "cell_type": "code",
   "execution_count": 38,
   "metadata": {
    "cell_id": "00054-38f4a457-1af6-4c3f-86f1-22362ea6e490",
    "deepnote_cell_type": "code",
    "deepnote_to_be_reexecuted": false,
    "execution_millis": 17,
    "execution_start": 1639648052276,
    "source_hash": "dbb6267c"
   },
   "outputs": [
    {
     "data": {
      "text/html": [
       "<div>\n",
       "<style scoped>\n",
       "    .dataframe tbody tr th:only-of-type {\n",
       "        vertical-align: middle;\n",
       "    }\n",
       "\n",
       "    .dataframe tbody tr th {\n",
       "        vertical-align: top;\n",
       "    }\n",
       "\n",
       "    .dataframe thead th {\n",
       "        text-align: right;\n",
       "    }\n",
       "</style>\n",
       "<table border=\"1\" class=\"dataframe\">\n",
       "  <thead>\n",
       "    <tr style=\"text-align: right;\">\n",
       "      <th></th>\n",
       "      <th>year</th>\n",
       "      <th>inflation</th>\n",
       "      <th>inflation_index</th>\n",
       "      <th>avg_wage</th>\n",
       "      <th>inflation_adj</th>\n",
       "    </tr>\n",
       "  </thead>\n",
       "  <tbody>\n",
       "    <tr>\n",
       "      <th>0</th>\n",
       "      <td>2011</td>\n",
       "      <td>8.9</td>\n",
       "      <td>100.000000</td>\n",
       "      <td>424.2</td>\n",
       "      <td>424.200000</td>\n",
       "    </tr>\n",
       "    <tr>\n",
       "      <th>1</th>\n",
       "      <td>2012</td>\n",
       "      <td>14.0</td>\n",
       "      <td>114.000000</td>\n",
       "      <td>557.6</td>\n",
       "      <td>489.122807</td>\n",
       "    </tr>\n",
       "    <tr>\n",
       "      <th>2</th>\n",
       "      <td>2013</td>\n",
       "      <td>12.5</td>\n",
       "      <td>128.250000</td>\n",
       "      <td>677.1</td>\n",
       "      <td>527.953216</td>\n",
       "    </tr>\n",
       "    <tr>\n",
       "      <th>3</th>\n",
       "      <td>2014</td>\n",
       "      <td>10.4</td>\n",
       "      <td>141.588000</td>\n",
       "      <td>796.6</td>\n",
       "      <td>562.618301</td>\n",
       "    </tr>\n",
       "    <tr>\n",
       "      <th>4</th>\n",
       "      <td>2015</td>\n",
       "      <td>1.9</td>\n",
       "      <td>144.278172</td>\n",
       "      <td>808.0</td>\n",
       "      <td>560.029275</td>\n",
       "    </tr>\n",
       "    <tr>\n",
       "      <th>5</th>\n",
       "      <td>2016</td>\n",
       "      <td>1.3</td>\n",
       "      <td>146.153788</td>\n",
       "      <td>861.9</td>\n",
       "      <td>589.721286</td>\n",
       "    </tr>\n",
       "    <tr>\n",
       "      <th>6</th>\n",
       "      <td>2017</td>\n",
       "      <td>6.4</td>\n",
       "      <td>155.507631</td>\n",
       "      <td>944.5</td>\n",
       "      <td>607.365694</td>\n",
       "    </tr>\n",
       "    <tr>\n",
       "      <th>7</th>\n",
       "      <td>2018</td>\n",
       "      <td>8.1</td>\n",
       "      <td>168.103749</td>\n",
       "      <td>1002.9</td>\n",
       "      <td>596.595857</td>\n",
       "    </tr>\n",
       "    <tr>\n",
       "      <th>8</th>\n",
       "      <td>2019</td>\n",
       "      <td>5.2</td>\n",
       "      <td>176.845144</td>\n",
       "      <td>1124.3</td>\n",
       "      <td>635.753958</td>\n",
       "    </tr>\n",
       "    <tr>\n",
       "      <th>9</th>\n",
       "      <td>2020</td>\n",
       "      <td>2.3</td>\n",
       "      <td>180.912582</td>\n",
       "      <td>1220.6</td>\n",
       "      <td>674.690498</td>\n",
       "    </tr>\n",
       "  </tbody>\n",
       "</table>\n",
       "</div>"
      ],
      "text/plain": [
       "   year  inflation  inflation_index  avg_wage  inflation_adj\n",
       "0  2011        8.9       100.000000     424.2     424.200000\n",
       "1  2012       14.0       114.000000     557.6     489.122807\n",
       "2  2013       12.5       128.250000     677.1     527.953216\n",
       "3  2014       10.4       141.588000     796.6     562.618301\n",
       "4  2015        1.9       144.278172     808.0     560.029275\n",
       "5  2016        1.3       146.153788     861.9     589.721286\n",
       "6  2017        6.4       155.507631     944.5     607.365694\n",
       "7  2018        8.1       168.103749    1002.9     596.595857\n",
       "8  2019        5.2       176.845144    1124.3     635.753958\n",
       "9  2020        2.3       180.912582    1220.6     674.690498"
      ]
     },
     "execution_count": 38,
     "metadata": {},
     "output_type": "execute_result"
    }
   ],
   "source": [
    "inflation"
   ]
  },
  {
   "cell_type": "code",
   "execution_count": 39,
   "metadata": {
    "cell_id": "00055-c9c40513-9b80-4c6f-b665-d8c62f6ab7f9",
    "deepnote_cell_type": "code",
    "deepnote_to_be_reexecuted": false,
    "execution_millis": 1,
    "execution_start": 1639648052298,
    "source_hash": "2dd371fe"
   },
   "outputs": [],
   "source": [
    "index_2011 = inflation.iloc[0]['inflation_index']\n",
    "index_2020 = inflation.iloc[9]['inflation_index']"
   ]
  },
  {
   "cell_type": "code",
   "execution_count": 40,
   "metadata": {
    "cell_id": "00056-93dea5d1-f2ba-4a63-a8f9-781291a86a16",
    "deepnote_cell_type": "code",
    "deepnote_output_heights": [
     21.1875
    ],
    "deepnote_to_be_reexecuted": false,
    "execution_millis": 9,
    "execution_start": 1639648052305,
    "source_hash": "1a92f68a"
   },
   "outputs": [
    {
     "data": {
      "text/plain": [
       "165825.94569574425"
      ]
     },
     "execution_count": 40,
     "metadata": {},
     "output_type": "execute_result"
    }
   ],
   "source": [
    "300_000 / (index_2020/index_2011)"
   ]
  },
  {
   "cell_type": "code",
   "execution_count": 41,
   "metadata": {
    "cell_id": "00057-e26093b6-7449-4d14-b5ec-2894d7743c4a",
    "deepnote_cell_type": "code",
    "deepnote_output_heights": [
     21.1875
    ],
    "deepnote_to_be_reexecuted": false,
    "execution_millis": 1,
    "execution_start": 1639648052359,
    "source_hash": "463b5a3b"
   },
   "outputs": [
    {
     "data": {
      "text/plain": [
       "552753.7050722998"
      ]
     },
     "execution_count": 41,
     "metadata": {},
     "output_type": "execute_result"
    }
   ],
   "source": [
    "1_000_001 / (index_2020/index_2011)"
   ]
  },
  {
   "cell_type": "code",
   "execution_count": 42,
   "metadata": {
    "cell_id": "00058-ec3ec63c-6043-4f96-bd58-d538e1eb8010",
    "deepnote_cell_type": "code",
    "deepnote_output_heights": [
     21.1875
    ],
    "deepnote_to_be_reexecuted": false,
    "execution_millis": 3,
    "execution_start": 1639648052361,
    "source_hash": "8d8e7128"
   },
   "outputs": [
    {
     "data": {
      "text/plain": [
       "884405.0437106359"
      ]
     },
     "execution_count": 42,
     "metadata": {},
     "output_type": "execute_result"
    }
   ],
   "source": [
    "1_600_000 / (index_2020/index_2011)"
   ]
  }
 ],
 "metadata": {
  "deepnote": {
   "is_reactive": false
  },
  "deepnote_execution_queue": [],
  "deepnote_notebook_id": "94d96faf-5c47-4b8c-a558-697819f351a5",
  "kernelspec": {
   "display_name": "Python 3 (ipykernel)",
   "language": "python",
   "name": "python3"
  },
  "language_info": {
   "codemirror_mode": {
    "name": "ipython",
    "version": 3
   },
   "file_extension": ".py",
   "mimetype": "text/x-python",
   "name": "python",
   "nbconvert_exporter": "python",
   "pygments_lexer": "ipython3",
   "version": "3.8.12"
  }
 },
 "nbformat": 4,
 "nbformat_minor": 4
}
